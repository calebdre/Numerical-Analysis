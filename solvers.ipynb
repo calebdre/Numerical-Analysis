{
 "cells": [
  {
   "cell_type": "code",
   "execution_count": 53,
   "metadata": {},
   "outputs": [],
   "source": [
    "from IPython.core.debugger import set_trace\n",
    "import unittest\n",
    "tc = unittest.TestCase('__init__')\n",
    "\n",
    "import numpy as np\n",
    "from numpy.linalg import inv\n",
    "\n",
    "%matplotlib inline\n",
    "import matplotlib.pyplot as plt\n",
    "plt.style.use = \"default\"\n",
    "# mathjax docs: https://math.meta.stackexchange.com/questions/5020/mathjax-basic-tutorial-and-quick-reference"
   ]
  },
  {
   "cell_type": "code",
   "execution_count": 7,
   "metadata": {},
   "outputs": [],
   "source": [
    "def p(*args):\n",
    "    for arg in args:\n",
    "        print(arg)\n",
    "        print(\" \")"
   ]
  },
  {
   "cell_type": "markdown",
   "metadata": {},
   "source": [
    "# The Problem\n",
    "\n",
    "Given $A \\in \\mathbb{R}^{mxn} \\text{ and } b \\in \\mathbb{R}^n$ in the equation:\n",
    "\n",
    "$Ax = b$\n",
    "  \n",
    "We want to solve for $x$"
   ]
  },
  {
   "cell_type": "code",
   "execution_count": 101,
   "metadata": {},
   "outputs": [],
   "source": [
    "def ex_1():\n",
    "    return (np.array([\n",
    "        [4, -1, 2 ,-1],\n",
    "        [2, 6, 3, -3],\n",
    "        [1, 1, 5, 0],\n",
    "        [1, -1, 4, 7]\n",
    "    ], dtype=np.float64), \n",
    "    np.array([[-8, -20, -2, 4]], dtype=np.float64).T,\n",
    "    np.array([[2, 2, 3, -7]], dtype=np.float64).T)\n",
    "\n",
    "\n",
    "def ex_2():\n",
    "    # slide 115\n",
    "    return (\n",
    "        np.array([\n",
    "            [.2, .1, 1, 1, 0],\n",
    "            [.1, 4, -1, 1, -1],\n",
    "            [1, -1, 60, 0, -1],\n",
    "            [1, 1, 0 , 8, 4],\n",
    "            [0, -1, -2, 4, 700]            \n",
    "        ]),\n",
    "        np.array([1,2,3,4,5], dtype=np.float64).T,\n",
    "        np.array([7.859713071, 0.4229264082, -.07359223906, -.5406430164, .01062616286], dtype=np.float64).T\n",
    "    )\n",
    "\n",
    "def ex_3():\n",
    "    return (\n",
    "        np.array([\n",
    "            [4, 3, 0],\n",
    "            [3, 4, -1],\n",
    "            [0, -1, 4]\n",
    "        ]),\n",
    "        np.array([24, 30, -24]),\n",
    "        np.array([3, 4, -5])\n",
    "    )\n",
    "\n",
    "def ex_4():\n",
    "    return (\n",
    "        np.array([\n",
    "            [3.3330, 15920, -10.333],\n",
    "            [2.2220, 16.710, 9.6120],\n",
    "            [1.5611, 5.1791, 1.6852]\n",
    "        ]),\n",
    "        np.array([15913, 28.544, 8.4254]),\n",
    "        np.array([1, 1, 1])\n",
    "    )\n",
    "\n",
    "def ex(number):\n",
    "    if number == 1:\n",
    "        return ex_1()\n",
    "    elif number == 2:\n",
    "        return ex_2()\n",
    "    elif number == 3:\n",
    "        return ex_3()\n",
    "    elif number == 4:\n",
    "        return ex_4()"
   ]
  },
  {
   "cell_type": "code",
   "execution_count": 151,
   "metadata": {},
   "outputs": [],
   "source": [
    "def run_test(example_num, generate_plot, *methods):\n",
    "    A, b, x = ex(example_num)\n",
    "    errors = []\n",
    "    for method in methods:\n",
    "        x, iter_vals = np.array(method(A, b))\n",
    "        error = x - np.array(iter_vals)\n",
    "        errors.append(error)\n",
    "\n",
    "    if generate_plot:\n",
    "        m_names = []\n",
    "        for i, e in enumerate(errors):\n",
    "            method_name = \" \".join(methods[i].__name__.split(\"_\"))\n",
    "            plt.plot(np.linalg.norm(e, axis=1), label=method_name)\n",
    "            m_names.append(method_name)\n",
    "            \n",
    "        plt.legend()\n",
    "        plt.ylabel(\"norm\")\n",
    "        plt.xlabel(\"iteration\")\n",
    " \n",
    "        plt.title(\", \".join(m_names) + \" (example {})\".format(example_num))\n",
    "        plt.show()\n",
    "    \n",
    "    return errors"
   ]
  },
  {
   "cell_type": "code",
   "execution_count": 152,
   "metadata": {},
   "outputs": [
    {
     "data": {
      "image/png": "[encoded data removed]",
      "text/plain": [
       "<matplotlib.figure.Figure at 0x10c927e80>"
      ]
     },
     "metadata": {},
     "output_type": "display_data"
    }
   ],
   "source": [
    "r = run_test(3, True, jacobi_iterative, conjugate_gradient)"
   ]
  },
  {
   "cell_type": "code",
   "execution_count": 9,
   "metadata": {},
   "outputs": [],
   "source": [
    "def test_correct_matrix_solution(A, b, x):\n",
    "    return np.array_equal(np.dot(A, x), b)\n",
    "\n",
    "def test_method(method_func):\n",
    "    # example 6.1.2\n",
    "    A = np.array([\n",
    "        [4, 3, 0],\n",
    "        [3, 4, -1],\n",
    "        [0, -1, 4]\n",
    "    ])\n",
    "    b = np.array([24, 30, -24])\n",
    "    x = np.array([3,4,-5]) \n",
    "    \n",
    "    x_est = method_func(A, b)\n",
    "    return np.allclose(x_est, x)\n",
    "    \n",
    "    # random A & b\n",
    "    #A_2 = np.random.random((4,4))\n",
    "    #b_2 = np.random.random((4,1))\n",
    "    #x_2 = method_func(A_2, b_2)\n",
    "    #tc.assertTrue(np.array_equal(np.dot(A_2, x_2), b_2))"
   ]
  },
  {
   "cell_type": "markdown",
   "metadata": {},
   "source": [
    "# Gausse Elimination"
   ]
  },
  {
   "cell_type": "markdown",
   "metadata": {},
   "source": [
    "### 1. No Pivoting:"
   ]
  },
  {
   "cell_type": "code",
   "execution_count": 10,
   "metadata": {},
   "outputs": [],
   "source": [
    "def swap_rows(m, row_index_1, row_index_2):\n",
    "    cpy = m.copy()\n",
    "    cpy[[row_index_1, row_index_2]] = cpy[[row_index_2, row_index_1]]\n",
    "    return cpy\n",
    "\n",
    "def swap_rows_if_needed(m, b, pivot_row, pivot_col):\n",
    "        if m[pivot_row, pivot_col] > 0:\n",
    "            return m, b\n",
    "        \n",
    "        nonzeros = m[pivot_row: m.shape[0], pivot_col].nonzero()\n",
    "        if len(nonzeros[0]) > 0:\n",
    "            next_nonzero_index = nonzeros[0][0] + pivot_row\n",
    "            if next_nonzero_index != pivot_row:\n",
    "                m = swap_rows(m, pivot_row, next_nonzero_index)\n",
    "                b = swap_rows(b, pivot_row, next_nonzero_index)\n",
    "\n",
    "        return m, b\n",
    "\n",
    "def swap_rows_if_needed_test():\n",
    "    A = np.random.random((4,4))\n",
    "    b = np.random.random((4,1))\n",
    "    A[1, 1] = 0\n",
    "    A_real, b_real = swap_rows_if_needed(A,b, 1, 1)\n",
    "    A_expected = swap_rows(A, 1, 2)\n",
    "    b_expected = swap_rows(b, 1, 2)\n",
    "    tc.assertTrue(np.array_equal(A_expected, A_real))\n",
    "    tc.assertTrue(np.array_equal(b_expected, b_real))\n",
    "    \n",
    "    B = np.random.random((4,4))\n",
    "    c = np.random.random((4,1))\n",
    "    B_real, c = swap_rows_if_needed(B, c, 1, 1)\n",
    "    B_expected = B\n",
    "    tc.assertTrue(np.array_equal(B_expected, B_real))\n",
    "    \n",
    "swap_rows_if_needed_test()"
   ]
  },
  {
   "cell_type": "code",
   "execution_count": 11,
   "metadata": {},
   "outputs": [],
   "source": [
    "def forward_elimination(A_input, b_input):\n",
    "    def forward_elimination_recurse(A, b, pivot_index):\n",
    "        pivot_row_index = A.shape[1] - A.shape[0] + pivot_index\n",
    "        A, b = swap_rows_if_needed(A, b, pivot_row_index, pivot_index)\n",
    "        pivot_row = A[pivot_row_index]\n",
    "        \n",
    "        start_row_index = pivot_row_index + 1\n",
    "\n",
    "        for row_i in range(start_row_index, A.shape[0]):\n",
    "            multiplier = np.abs(pivot_row[pivot_index]) *  (A[row_i][pivot_index] / pivot_row[pivot_index])\n",
    "            A[row_i] -= (multiplier * pivot_row)\n",
    "            b[row_i] -= (multiplier * b[pivot_row_index])\n",
    "        \n",
    "        if pivot_index >= A.shape[1]-1:\n",
    "            return A, b\n",
    "        else:\n",
    "            return forward_elimination_recurse(A, b, pivot_index + 1)\n",
    "    \n",
    "    return forward_elimination_recurse(A_input, b_input, 0)"
   ]
  },
  {
   "cell_type": "code",
   "execution_count": 12,
   "metadata": {},
   "outputs": [],
   "source": [
    "# A -> n x m matrix, b -> 1 x m matrix\n",
    "def backward_substitution(A, B):\n",
    "    '''\n",
    "    There are only m variables to solve for in an n x m matrix,\n",
    "    so we can just solve the m x m submatrix. If m > n, we don't\n",
    "    have enough equations to solve the system.\n",
    "\n",
    "    x = output    \n",
    "    n = # of rows\n",
    "    k = # of columns\n",
    "    '''\n",
    "    x = np.zeros((B.shape[0],))\n",
    "    n = A.shape[0]\n",
    "    k = A.shape[1]\n",
    "    \n",
    "    # first iteration \n",
    "    x[k-1] = B[k-1, 0] / A[n-1,k-1]\n",
    "    A[0: n-1,k-1] *= x[k-1]\n",
    "    B[k-1] *= x[k-1]\n",
    "\n",
    "    for i in reversed(range(0, k-1)):\n",
    "        found_variables_sum = np.sum(A[i, i+1:n])\n",
    "        x[i] = (B[i, 0] - found_variables_sum) / A[i, i]\n",
    "        A[:i, i] *= x[i]\n",
    "\n",
    "    if n > k:\n",
    "        A[0: n-k] *= x\n",
    "    \n",
    "    return x[::-1]"
   ]
  },
  {
   "cell_type": "code",
   "execution_count": 13,
   "metadata": {},
   "outputs": [],
   "source": [
    "def gauss_no_pivot(A, b):\n",
    "    A, b = forward_elimination(A, b)\n",
    "    return backward_substitution(A, b)"
   ]
  },
  {
   "cell_type": "code",
   "execution_count": 14,
   "metadata": {},
   "outputs": [
    {
     "name": "stdout",
     "output_type": "stream",
     "text": [
      "[-8.      7.6    -0.55   -7.9375]\n",
      " \n",
      "[[ 2.]\n",
      " [ 2.]\n",
      " [ 3.]\n",
      " [-7.]]\n",
      " \n"
     ]
    }
   ],
   "source": [
    "A, b, x = ex_1()\n",
    "\n",
    "p_x = gauss_no_pivot(A, b)\n",
    "p(p_x, x)"
   ]
  },
  {
   "cell_type": "markdown",
   "metadata": {},
   "source": [
    "### 2. Partial Pivoting"
   ]
  },
  {
   "cell_type": "code",
   "execution_count": 5,
   "metadata": {},
   "outputs": [],
   "source": [
    "def gauss_partial_pivot(A, b):\n",
    "    pass"
   ]
  },
  {
   "cell_type": "markdown",
   "metadata": {},
   "source": [
    "# Jacobi Iterative Method"
   ]
  },
  {
   "cell_type": "code",
   "execution_count": 92,
   "metadata": {},
   "outputs": [],
   "source": [
    "def jacobi_iterative(A, b):\n",
    "    D = np.diagflat(np.diag(A))\n",
    "    R = A - D\n",
    "    L = np.tril(R)\n",
    "    U = np.triu(R)\n",
    "    inverse_D = inv(D)\n",
    "    \n",
    "    converg_thresh = .001\n",
    "    error = np.inf\n",
    "    prev_x = np.random.random(b.shape)\n",
    "    iterations = [prev_x]\n",
    "    \n",
    "    while error > converg_thresh:\n",
    "        x = inverse_D @ (b - (R @ prev_x))\n",
    "        iterations.append(x)\n",
    "        error = np.linalg.norm(x - prev_x) / np.linalg.norm(x)\n",
    "        prev_x = x\n",
    "    \n",
    "    return x, iterations"
   ]
  },
  {
   "cell_type": "code",
   "execution_count": 26,
   "metadata": {},
   "outputs": [
    {
     "name": "stdout",
     "output_type": "stream",
     "text": [
      "Estimation:\n",
      " \n",
      "(array([ 2.99772   ,  3.99827142, -4.99924   ]), [array([0.04568452, 0.81133004, 0.15659917]), array([ 5.39150247,  7.5048864 , -5.79716749]), array([ 0.3713352 ,  2.00708127, -4.1237784 ]), array([ 4.49468905,  6.190554  , -5.49822968]), array([ 1.3570845,  2.7544258, -4.4523615]), array([ 3.93418065,  5.36909625, -5.31139355]), array([ 1.97317781,  3.22151612, -4.65772594]), array([ 3.58386291,  4.85568516, -5.19462097]), array([ 2.35823613,  3.51344758, -4.78607871]), array([ 3.36491432,  4.53480322, -5.12163811]), array([ 2.59889758,  3.69590474, -4.86629919]), array([ 3.22807145,  4.33425201, -5.07602382]), array([ 2.74931099,  3.80994046, -4.916437  ]), array([ 3.14254466,  4.20890751, -5.04751489]), array([ 2.84331937,  3.88121279, -4.94777312]), array([ 3.08909041,  4.13056719, -5.0296968 ]), array([ 2.90207461,  3.92575799, -4.9673582 ]), array([ 3.05568151,  4.0816045 , -5.0185605 ]), array([ 2.93879663,  3.95359874, -4.97959888]), array([ 3.03480094,  4.05100281, -5.01160031]), array([ 2.96174789,  3.97099922, -4.9872493 ]), array([ 3.02175059,  4.03187676, -5.0072502 ]), array([ 2.97609243,  3.98187451, -4.99203081]), array([ 3.01359412,  4.01992297, -5.00453137]), array([ 2.98505777,  3.98867157, -4.99501926]), array([ 3.00849632,  4.01245186, -5.00283211]), array([ 2.99066111,  3.99291973, -4.99688704]), array([ 3.0053102 ,  4.00778241, -5.00177007]), array([ 2.99416319,  3.99557483, -4.9980544 ]), array([ 3.00331888,  4.00486401, -5.00110629]), array([ 2.99635199,  3.99723427, -4.998784  ]), array([ 3.0020743 ,  4.00304   , -5.00069143]), array([ 2.99772   ,  3.99827142, -4.99924   ])])\n",
      " \n",
      "x:\n",
      " \n",
      "[ 3  4 -5]\n",
      " \n"
     ]
    }
   ],
   "source": [
    "# slide 85/86\n",
    "A = np.array([\n",
    "    [4, 3, 0],\n",
    "    [3, 4, -1],\n",
    "    [0, -1, 4]\n",
    "])\n",
    "b = np.array([24, 30, -24])\n",
    "x = np.array([3,4,-5])\n",
    "\n",
    "p(\"Estimation:\", jacobi_iterative(A,b), \"x:\", x)"
   ]
  },
  {
   "cell_type": "markdown",
   "metadata": {},
   "source": [
    "# Gauss-Seidel"
   ]
  },
  {
   "cell_type": "code",
   "execution_count": 71,
   "metadata": {},
   "outputs": [],
   "source": [
    "def gauss_seidel(A, b):\n",
    "    L = np.tril(A)\n",
    "    U = A - L\n",
    "    x0 = np.random.random(b.shape)\n",
    "    inv_L = inv(L) \n",
    "    \n",
    "    converg_thresh = .0000001\n",
    "    error = np.inf\n",
    "    prev_x = np.random.random(b.shape)\n",
    "    iterations = [prev_x]\n",
    "\n",
    "    while error > converg_thresh:\n",
    "        x = inv_L @ (b - (U @ prev_x))\n",
    "        iterations.append(x)\n",
    "        error = np.linalg.norm(x - prev_x) / np.linalg.norm(x)\n",
    "        prev_x = x\n",
    "    \n",
    "    return x, iterations"
   ]
  },
  {
   "cell_type": "markdown",
   "metadata": {},
   "source": [
    "# Successive Over-Relaxation"
   ]
  },
  {
   "cell_type": "code",
   "execution_count": 187,
   "metadata": {},
   "outputs": [],
   "source": [
    "def successive_over_relax(A, b, w):\n",
    "    D = np.diagflat(np.diag(A))\n",
    "    L = np.tril(A, -1)\n",
    "    U = np.triu(A, 1)\n",
    "    \n",
    "    converg_thresh = .00001\n",
    "    \n",
    "    error = np.inf\n",
    "    prev_x = np.ones(b.shape)\n",
    "    iterations = [prev_x]\n",
    "    \n",
    "    while error > converg_thresh:\n",
    "        # https://en.wikipedia.org/wiki/Successive_over-relaxation\n",
    "        x = inv(D + (w * L)) @ ((w * b) - (((w * U) + ((w-1)*D)) @ prev_x))\n",
    "        iterations.append(x)\n",
    "        error = np.linalg.norm(x - prev_x) / np.linalg.norm(x)\n",
    "        prev_x = x\n",
    "    \n",
    "    return x, iterations"
   ]
  },
  {
   "cell_type": "code",
   "execution_count": 188,
   "metadata": {},
   "outputs": [
    {
     "name": "stdout",
     "output_type": "stream",
     "text": [
      "Estimation:\n",
      " \n",
      "[ 3.00000448  4.00000547 -5.00001143]\n",
      " \n",
      "x:\n",
      " \n",
      "[ 3  4 -5]\n",
      " \n"
     ]
    }
   ],
   "source": [
    "# slide 85/86\n",
    "A = np.array([\n",
    "    [4, 3, 0],\n",
    "    [3, 4, -1],\n",
    "    [0, -1, 4]\n",
    "])\n",
    "b = np.array([24, 30, -24])\n",
    "x = np.array([3,4,-5])\n",
    "\n",
    "p(\"Estimation:\", successive_over_relax(A, b, 1.5), \"x:\", x)"
   ]
  },
  {
   "cell_type": "markdown",
   "metadata": {},
   "source": [
    "# Iterative Refinement  "
   ]
  },
  {
   "cell_type": "code",
   "execution_count": 189,
   "metadata": {},
   "outputs": [],
   "source": [
    "def iterative_refinement(A, b):\n",
    "    pass"
   ]
  },
  {
   "cell_type": "markdown",
   "metadata": {},
   "source": [
    "# Conditioned Conjugate Gradient"
   ]
  },
  {
   "cell_type": "code",
   "execution_count": 104,
   "metadata": {},
   "outputs": [],
   "source": [
    "def conjugate_gradient(A, b):\n",
    "    x = np.ones(b.shape)\n",
    "    iterations = [x]\n",
    "    prev_r = b - (A @ x)\n",
    "    v = prev_r\n",
    "    while not np.allclose(prev_r, np.zeros(prev_r.shape)):\n",
    "        Av = A @ v\n",
    "        \n",
    "        t = (prev_r.T @ prev_r) / (v.T @ Av)\n",
    "        x = x + (t * v)\n",
    "        iterations.append(x)\n",
    "        \n",
    "        r = prev_r - (t * Av)\n",
    "        s = (r.T @ r) / (prev_r.T @ prev_r)\n",
    "        v = r + (s * v)\n",
    "        \n",
    "        prev_r = r\n",
    "    \n",
    "    return x, iterations"
   ]
  },
  {
   "cell_type": "code",
   "execution_count": 231,
   "metadata": {},
   "outputs": [
    {
     "name": "stdout",
     "output_type": "stream",
     "text": [
      "Estimation:\n",
      " \n",
      "[ 3.  4. -5.]\n",
      " \n",
      "x:\n",
      " \n",
      "[ 3  4 -5]\n",
      " \n"
     ]
    }
   ],
   "source": [
    "p(\"Estimation:\", conjugate_gradient(A, b), \"x:\", x)"
   ]
  },
  {
   "cell_type": "code",
   "execution_count": 16,
   "metadata": {},
   "outputs": [],
   "source": [
    "def cc_gradient(C, A, b):\n",
    "    x = np.ones(b.shape)\n",
    "    r = b - (A @ x)\n",
    "    iterations = [x]\n",
    "    prev_w = inv(C) @ r\n",
    "    v = inv(C.T) @ prev_w\n",
    "    \n",
    "    while not np.allclose(r, np.zeros(r.shape)):\n",
    "        Av = A @ v\n",
    "        \n",
    "        t = (prev_w.T @ prev_w) / (v.T @ Av)\n",
    "        x = x + (t * v)\n",
    "        iterations.append(x)\n",
    "        \n",
    "        r = r - (t * Av)\n",
    "        \n",
    "        w = inv(C) @ r\n",
    "        s = (w.T @ w) / (prev_w.T @ prev_w)\n",
    "        v = (inv(C.T) @ w) + (s * v)\n",
    "        \n",
    "        prev_w = w\n",
    "    \n",
    "    return x, iterations"
   ]
  },
  {
   "cell_type": "code",
   "execution_count": 239,
   "metadata": {},
   "outputs": [
    {
     "name": "stdout",
     "output_type": "stream",
     "text": [
      "Estimation:\n",
      " \n",
      "[ 3.  4. -5.]\n",
      " \n",
      "x:\n",
      " \n",
      "[ 3  4 -5]\n",
      " \n"
     ]
    }
   ],
   "source": [
    "p(\"Estimation:\", cc_gradient(np.diagflat(np.diag(A)), A, b), \"x:\", x)"
   ]
  }
 ],
 "metadata": {
  "kernelspec": {
   "display_name": "Python 3",
   "language": "python",
   "name": "python3"
  },
  "language_info": {
   "codemirror_mode": {
    "name": "ipython",
    "version": 3
   },
   "file_extension": ".py",
   "mimetype": "text/x-python",
   "name": "python",
   "nbconvert_exporter": "python",
   "pygments_lexer": "ipython3",
   "version": "3.5.0"
  }
 },
 "nbformat": 4,
 "nbformat_minor": 2
}
