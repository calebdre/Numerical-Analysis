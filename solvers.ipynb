{
 "cells": [
  {
   "cell_type": "code",
   "execution_count": 1,
   "metadata": {},
   "outputs": [],
   "source": [
    "from IPython.core.debugger import set_trace\n",
    "import unittest\n",
    "tc = unittest.TestCase('__init__')\n",
    "\n",
    "import numpy as np\n",
    "# mathjax docs: https://math.meta.stackexchange.com/questions/5020/mathjax-basic-tutorial-and-quick-reference"
   ]
  },
  {
   "cell_type": "markdown",
   "metadata": {},
   "source": [
    "# The Problem\n",
    "\n",
    "Given $A \\in \\mathbb{R}^{nxn} \\text{ and } b \\in \\mathbb{R}^n$ in the equation:\n",
    "\n",
    "$Ax = b$\n",
    "  \n",
    "We want to solve for $x$ "
   ]
  },
  {
   "cell_type": "code",
   "execution_count": 2,
   "metadata": {},
   "outputs": [],
   "source": [
    "A = np.random.random((3,3))\n",
    "b = np.random.random((3,1))"
   ]
  },
  {
   "cell_type": "code",
   "execution_count": 3,
   "metadata": {},
   "outputs": [],
   "source": [
    "def test_correct_matrix_solution(A, b, x):\n",
    "    return np.array_equal(np.dot(A, x), b)\n",
    "\n",
    "def test_method(method_func):\n",
    "    # example 6.1.2\n",
    "    A_1 = np.array([[1, -1, 2 ,-1],\n",
    "           [2, -2, 3, -3],\n",
    "           [1, 1, 1, 0],\n",
    "           [1, -1, 4, 3]])\n",
    "    b_1 = np.array([[-8, -20, -2, 4]]).T\n",
    "    x_1 = np.array([2, 2, 3, -7]).T\n",
    "    tc.assertTrue(np.array_equal(method_func(A_1, b_1), x_1))\n",
    "    \n",
    "    # random A & b\n",
    "    A_2 = np.random.random((4,4))\n",
    "    b_2 = np.random.random((4,1))\n",
    "    x_2 = method_func(A_2, b_2)\n",
    "    tc.assertTrue(np.array_equal(np.dot(A_2, x_2), b_2))"
   ]
  },
  {
   "cell_type": "markdown",
   "metadata": {},
   "source": [
    "# 1: Gausse Elimination"
   ]
  },
  {
   "cell_type": "markdown",
   "metadata": {},
   "source": [
    "### No Pivoting:"
   ]
  },
  {
   "cell_type": "code",
   "execution_count": 4,
   "metadata": {},
   "outputs": [
    {
     "data": {
      "text/plain": [
       "array([[0.01289123, 0.84166937, 0.10624828],\n",
       "       [0.83534194, 0.64911037, 0.92566622],\n",
       "       [0.43046583, 0.86800027, 0.37422   ]])"
      ]
     },
     "execution_count": 4,
     "metadata": {},
     "output_type": "execute_result"
    }
   ],
   "source": [
    "AC = A.copy() # AC -> Copy of A\n",
    "AC"
   ]
  },
  {
   "cell_type": "code",
   "execution_count": 94,
   "metadata": {},
   "outputs": [],
   "source": [
    "def swap_rows(m, row_index_1, row_index_2):\n",
    "    cpy = m.copy()\n",
    "    cpy[[row_index_1, row_index_2]] = cpy[[row_index_2, row_index_1]]\n",
    "    return cpy\n",
    "\n",
    "def swap_rows_if_needed(m, pivot_row, pivot_col):\n",
    "        if m[pivot_row, pivot_col] > 0:\n",
    "            return m\n",
    "        \n",
    "        nonzeros = m[pivot_row: m.shape[0], pivot_col].nonzero()\n",
    "        if len(nonzeros[0]) > 0:\n",
    "            next_nonzero_index = nonzeros[0][0] + pivot_row\n",
    "            if next_nonzero_index != pivot_row:\n",
    "                m = swap_rows(m, pivot_row, next_nonzero_index)\n",
    "\n",
    "        return m\n",
    "\n",
    "def swap_rows_if_needed_test():\n",
    "    A = np.random.random((4,4))\n",
    "    A[1, 1] = 0\n",
    "    A_real = swap_rows_if_needed(A, 1, 1)\n",
    "    A_expected = swap_rows(A, 1, 2)\n",
    "    tc.assertTrue(np.array_equal(A_expected, A_real))\n",
    "    \n",
    "    B = np.random.random((4,4))\n",
    "    B_real = swap_rows_if_needed(B, 1, 1)\n",
    "    B_expected = B\n",
    "    tc.assertTrue(np.array_equal(B_expected, B_real))\n",
    "    \n",
    "swap_rows_if_needed_test()"
   ]
  },
  {
   "cell_type": "code",
   "execution_count": 101,
   "metadata": {},
   "outputs": [],
   "source": [
    "def forward_elimination(m):\n",
    "    def forward_elimination_recurse(m, pivot_row_index, j):\n",
    "        m = swap_rows_if_needed(m, pivot_row_index, j)\n",
    "        pivot_row = m[pivot_row_index]\n",
    "        \n",
    "        for row_i in range(pivot_row_index + 1, m.shape[0]):\n",
    "            calc = pivot_row * np.divide(m[row_i][j], pivot_row, where=pivot_row!=0)\n",
    "            m[row_i, j] = np.round(np.abs(m[row_i, j]) - np.abs(calc[j]))# round to avoid problem that pivoting solves\n",
    "            m[row_i+1:, j+1:] = np.abs(m[row_i+1:, j+1:]) - np.abs(calc[j+1:])\n",
    "        \n",
    "        if j == m.shape[0]-1 or j >= m.shape[1]-1:\n",
    "            return m\n",
    "        else:\n",
    "            return forward_elimination_recurse(m, pivot_row_index + 1, j + 1)\n",
    "    \n",
    "    return forward_elimination_recurse(m, 0, 0)"
   ]
  },
  {
   "cell_type": "code",
   "execution_count": 108,
   "metadata": {},
   "outputs": [
    {
     "name": "stdout",
     "output_type": "stream",
     "text": [
      "[[1.1749303  4.28365446 1.09631474 3.07008667]\n",
      " [0.99670495 4.85210421 4.56556906 3.6001109 ]\n",
      " [0.63179034 2.612491   1.98159778 1.49124098]\n",
      " [1.76243941 4.98353836 2.61431596 1.53332818]]\n",
      "\n",
      "\n",
      "[[ 1.1749303   4.28365446  1.09631474  3.07008667]\n",
      " [-0.          4.85210421  4.56556906  3.6001109 ]\n",
      " [ 0.          0.          0.98489283  0.49453603]\n",
      " [ 0.          0.          0.         -1.52061894]]\n"
     ]
    }
   ],
   "source": [
    "g = np.random.uniform(0, 5, (4, 4))\n",
    "\n",
    "print(g)\n",
    "print(\"\\n\")\n",
    "print(forward_elimination(g))"
   ]
  },
  {
   "cell_type": "code",
   "execution_count": 154,
   "metadata": {},
   "outputs": [
    {
     "name": "stdout",
     "output_type": "stream",
     "text": [
      "[[0.14725548 0.74327655]\n",
      " [0.37468017 0.88507139]] \n",
      "\n",
      "\n",
      " [[0.7898082 ]\n",
      " [0.55331357]]\n"
     ]
    },
    {
     "data": {
      "text/plain": [
       "array([[0.11630358, 0.58704592],\n",
       "       [0.20731562, 0.48972201]])"
      ]
     },
     "execution_count": 154,
     "metadata": {},
     "output_type": "execute_result"
    }
   ],
   "source": [
    "t = np.random.random((2,2))\n",
    "h = np.random.random((2,1))\n",
    "print(t, \"\\n\\n\\n\", h)\n",
    "t * h"
   ]
  },
  {
   "cell_type": "code",
   "execution_count": 155,
   "metadata": {},
   "outputs": [],
   "source": [
    "def backward_substitution(m, b):\n",
    "    '''\n",
    "    There are only m variables to solve for in an n x m matrix,\n",
    "    so we can just solve the m x m submatrix. If m > n, we don't\n",
    "    have enough equations to solve the system.\n",
    "    \n",
    "\n",
    "    m = m x m submatrix of input\n",
    "    b = m x 1 submatrix of input\n",
    "    v = variable values\n",
    "    x = output    \n",
    "    n = # of rows\n",
    "    k = # of columns\n",
    "    '''\n",
    "    m = input_m[-input_m.shape[1]:, :]\n",
    "    b = input_b[-input_m.shape[1]:]\n",
    "    v = np.array((input_m.shape[1],))\n",
    "    \n",
    "    n = m.shape[0]\n",
    "    k = m.shape[1]\n",
    "            \n",
    "    # first iteration \n",
    "    v[k] = b[k] / m[n,k]\n",
    "    m[0: n-1, k] *= c[k]\n",
    "    \n",
    "    rows_range = reversed(range(0, m.shape[1]-1))\n",
    "    \n",
    "    '''\n",
    "    i = row\n",
    "    j = column\n",
    "    '''\n",
    "    for i, j in zip(rows_range, rows_range):\n",
    "        found_variables_sum = np.sum(m[i, j+1:n])\n",
    "        v[j] = (b[j] - found_variables_sum) / m[i, j]\n",
    "        m[0: i-1, j] *= v[j]\n",
    "    \n",
    "    if n > k:\n",
    "        m[0: n-k] *= v\n",
    "    \n",
    "    x = np.sum(m, axis=1)\n",
    "    return x"
   ]
  },
  {
   "cell_type": "code",
   "execution_count": 93,
   "metadata": {},
   "outputs": [],
   "source": [
    "def no_pivot_gausse(A, b):\n",
    "    pass"
   ]
  }
 ],
 "metadata": {
  "kernelspec": {
   "display_name": "Python 3",
   "language": "python",
   "name": "python3"
  },
  "language_info": {
   "codemirror_mode": {
    "name": "ipython",
    "version": 3
   },
   "file_extension": ".py",
   "mimetype": "text/x-python",
   "name": "python",
   "nbconvert_exporter": "python",
   "pygments_lexer": "ipython3",
   "version": "3.5.0"
  }
 },
 "nbformat": 4,
 "nbformat_minor": 2
}
