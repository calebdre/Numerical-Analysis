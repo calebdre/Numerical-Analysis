{
 "cells": [
  {
   "cell_type": "code",
   "execution_count": 1,
   "metadata": {},
   "outputs": [],
   "source": [
    "from IPython.core.debugger import set_trace\n",
    "import numpy as np\n",
    "# mathjax docs: https://math.meta.stackexchange.com/questions/5020/mathjax-basic-tutorial-and-quick-reference"
   ]
  },
  {
   "cell_type": "markdown",
   "metadata": {},
   "source": [
    "# The Problem\n",
    "\n",
    "Given $A \\in \\mathbb{R}^{nxn} \\text{ and } b \\in \\mathbb{R}^n$ in the equation:\n",
    "\n",
    "$Ax = b$\n",
    "  \n",
    "We want to solve for $x$ "
   ]
  },
  {
   "cell_type": "code",
   "execution_count": 2,
   "metadata": {},
   "outputs": [],
   "source": [
    "A = np.random.random((3,3))\n",
    "b = np.random.random((3,1))"
   ]
  },
  {
   "cell_type": "markdown",
   "metadata": {},
   "source": [
    "# 1: Gausse Elimination"
   ]
  },
  {
   "cell_type": "markdown",
   "metadata": {},
   "source": [
    "### No Pivoting:"
   ]
  },
  {
   "cell_type": "code",
   "execution_count": 18,
   "metadata": {},
   "outputs": [
    {
     "data": {
      "text/plain": [
       "array([[0.18197348, 0.42133452, 0.17584487],\n",
       "       [0.92085066, 0.81153475, 0.40233247],\n",
       "       [0.68967287, 0.04844981, 0.19093976]])"
      ]
     },
     "execution_count": 18,
     "metadata": {},
     "output_type": "execute_result"
    }
   ],
   "source": [
    "AC = A.copy() # AC -> Copy of A\n",
    "AC"
   ]
  },
  {
   "cell_type": "code",
   "execution_count": 86,
   "metadata": {},
   "outputs": [],
   "source": [
    "def expose_triangle(m):\n",
    "    def expose_triangle_recurse(m, target_row, target_row_index, j):\n",
    "        for row_i in range(target_row_index + 1, m.shape[0]):\n",
    "            multiplier = np.divide( # to avoid divide by 0\n",
    "                m[row_i][j], \n",
    "                target_row, \n",
    "                out=np.zeros_like(m[row_i]), \n",
    "                where= target_row != 0\n",
    "            )\n",
    "            calc = target_row * multiplier\n",
    "            m[row_i] = np.abs(m[row_i]) - np.abs(calc)\n",
    "            \n",
    "        if j == m.shape[0]-1 or j >= m.shape[1]-1:\n",
    "            return m\n",
    "        else:\n",
    "            return expose_triangle_recurse(m, m[target_row_index + 1], target_row_index + 1, j + 1)\n",
    "    \n",
    "    return expose_triangle_recurse(m, m[0], 0, 0)"
   ]
  },
  {
   "cell_type": "code",
   "execution_count": 136,
   "metadata": {},
   "outputs": [
    {
     "name": "stdout",
     "output_type": "stream",
     "text": [
      "[[15.53457354 20.77697522 12.57700329 11.97382341]\n",
      " [24.59553811 18.56103987 19.96069982 40.65140447]\n",
      " [ 6.59056648 45.22696184 10.00187341 28.6352272 ]\n",
      " [ 1.74250819 38.60297985  2.00493572 39.47749635]]\n",
      "\n",
      "\n",
      "[[ 15.53457354  20.77697522  12.57700329  11.97382341]\n",
      " [  0.          -6.03449825  -4.6348383   16.05586636]\n",
      " [  0.           0.         -35.22508843 -16.59173464]\n",
      " [  0.           0.           0.         -35.72352763]]\n"
     ]
    }
   ],
   "source": [
    "g = np.random.uniform(0, 50, (4, 4))\n",
    "\n",
    "print(g)\n",
    "print(\"\\n\")\n",
    "print(expose_triangle(g))"
   ]
  },
  {
   "cell_type": "code",
   "execution_count": 137,
   "metadata": {},
   "outputs": [],
   "source": [
    "def no_pivot_gausse(A, b):\n",
    "    pass"
   ]
  }
 ],
 "metadata": {
  "kernelspec": {
   "display_name": "Python 3",
   "language": "python",
   "name": "python3"
  },
  "language_info": {
   "codemirror_mode": {
    "name": "ipython",
    "version": 3
   },
   "file_extension": ".py",
   "mimetype": "text/x-python",
   "name": "python",
   "nbconvert_exporter": "python",
   "pygments_lexer": "ipython3",
   "version": "3.5.0"
  }
 },
 "nbformat": 4,
 "nbformat_minor": 2
}
