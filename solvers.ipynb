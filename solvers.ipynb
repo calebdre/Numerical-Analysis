{
 "cells": [
  {
   "cell_type": "code",
   "execution_count": 4,
   "metadata": {},
   "outputs": [],
   "source": [
    "from IPython.core.debugger import set_trace\n",
    "import unittest\n",
    "tc = unittest.TestCase('__init__')\n",
    "\n",
    "import numpy as np\n",
    "from numpy.linalg import inv\n",
    "\n",
    "%matplotlib inline\n",
    "import matplotlib.pyplot as plt\n",
    "plt.style.use = \"default\"\n",
    "# mathjax docs: https://math.meta.stackexchange.com/questions/5020/mathjax-basic-tutorial-and-quick-reference"
   ]
  },
  {
   "cell_type": "code",
   "execution_count": 5,
   "metadata": {},
   "outputs": [],
   "source": [
    "def p(*args):\n",
    "    for arg in args:\n",
    "        print(arg)\n",
    "        print(\" \")"
   ]
  },
  {
   "cell_type": "markdown",
   "metadata": {},
   "source": [
    "# The Problem\n",
    "\n",
    "Given $A \\in \\mathbb{R}^{mxn} \\text{ and } b \\in \\mathbb{R}^n$ in the equation:\n",
    "\n",
    "$Ax = b$\n",
    "  \n",
    "We want to solve for $x$"
   ]
  },
  {
   "cell_type": "code",
   "execution_count": 6,
   "metadata": {},
   "outputs": [],
   "source": [
    "def ex_1():\n",
    "    return (np.array([\n",
    "        [4, -1, 2 ,-1],\n",
    "        [2, 6, 3, -3],\n",
    "        [1, 1, 5, 0],\n",
    "        [1, -1, 4, 7]\n",
    "    ], dtype=np.float64), \n",
    "    np.array([[-8, -20, -2, 4]], dtype=np.float64).T,\n",
    "    np.array([[2, 2, 3, -7]], dtype=np.float64).T)\n",
    "\n",
    "\n",
    "def ex_2():\n",
    "    # slide 115\n",
    "    return (\n",
    "        np.array([\n",
    "            [.2, .1, 1, 1, 0],\n",
    "            [.1, 4, -1, 1, -1],\n",
    "            [1, -1, 60, 0, -1],\n",
    "            [1, 1, 0 , 8, 4],\n",
    "            [0, -1, -2, 4, 700]    \n",
    "        ]),\n",
    "        np.array([1,2,3,4,5], dtype=np.float64).T,\n",
    "        np.array([7.859713071, 0.4229264082, -.07359223906, -.5406430164, .01062616286], dtype=np.float64).T\n",
    "    )\n",
    "\n",
    "def ex_3():\n",
    "    return (\n",
    "        np.array([\n",
    "            [4., 3., 0.],\n",
    "            [3., 4., -1.],\n",
    "            [0., -1., 4.]\n",
    "        ]),\n",
    "        np.array([24., 30., -24.]),\n",
    "        np.array([3, 4, -5])\n",
    "    )\n",
    "\n",
    "def ex_4():\n",
    "    return (\n",
    "        np.array([\n",
    "            [3.3330, 15920, -10.333],\n",
    "            [2.2220, 16.710, 9.6120],\n",
    "            [1.5611, 5.1791, 1.6852]\n",
    "        ]),\n",
    "        np.array([15913, 28.544, 8.4254]),\n",
    "        np.array([1, 1, 1])\n",
    "    )\n",
    "\n",
    "def ex(number):\n",
    "    if number == 1:\n",
    "        return ex_1()\n",
    "    elif number == 2:\n",
    "        return ex_2()\n",
    "    elif number == 3:\n",
    "        return ex_3()\n",
    "    elif number == 4:\n",
    "        return ex_4()"
   ]
  },
  {
   "cell_type": "code",
   "execution_count": 96,
   "metadata": {},
   "outputs": [],
   "source": [
    "def run_test(example_num, generate_plot, methods, iterations=-1):\n",
    "    if not isinstance(methods, list):\n",
    "        raise Exception(\"parameter `methods` must be a list of method declarations.\")\n",
    "        \n",
    "    A, b, x = ex(example_num)\n",
    "    errors = []\n",
    "    max_err_length = -np.inf\n",
    "    for method in methods:\n",
    "        if iterations > 0:\n",
    "            x, iter_vals = np.array(method(A, b, iterations))\n",
    "        else:\n",
    "            x, iter_vals = np.array(method(A, b))\n",
    "        error = x - np.array(iter_vals)\n",
    "        errors.append(error)\n",
    "\n",
    "    if generate_plot:\n",
    "        m_names = []\n",
    "        plot = plt.figure(figsize=(12, 7))\n",
    "        \n",
    "        for i, e in enumerate(errors):\n",
    "            method_name = \" \".join(methods[i].__name__.split(\"_\"))\n",
    "            plt.plot(np.linalg.norm(e, axis=1), label=method_name)\n",
    "            m_names.append(method_name)\n",
    "            \n",
    "        plt.legend()\n",
    "        plt.ylabel(\"norm\")\n",
    "        plt.xlabel(\"iteration\")\n",
    "        plt.title(\", \".join(m_names) + \" (example {})\".format(example_num))\n",
    "        plot.savefig(\"{}.pdf\".format(\",\".join(m_names).replace(\" \", \"_\")))\n",
    "        plt.show()\n",
    "    \n",
    "    return errors"
   ]
  },
  {
   "cell_type": "code",
   "execution_count": 97,
   "metadata": {},
   "outputs": [
    {
     "ename": "AttributeError",
     "evalue": "'list' object has no attribute 'replace'",
     "output_type": "error",
     "traceback": [
      "\u001b[0;31m---------------------------------------------------------------------------\u001b[0m",
      "\u001b[0;31mAttributeError\u001b[0m                            Traceback (most recent call last)",
      "\u001b[0;32m<ipython-input-97-2e7d1b0c4771>\u001b[0m in \u001b[0;36m<module>\u001b[0;34m()\u001b[0m\n\u001b[0;32m----> 1\u001b[0;31m \u001b[0mr\u001b[0m \u001b[0;34m=\u001b[0m \u001b[0mrun_test\u001b[0m\u001b[0;34m(\u001b[0m\u001b[0;36m2\u001b[0m\u001b[0;34m,\u001b[0m \u001b[0;32mTrue\u001b[0m\u001b[0;34m,\u001b[0m \u001b[0;34m[\u001b[0m\u001b[0mjacobi_iterative\u001b[0m\u001b[0;34m,\u001b[0m \u001b[0mconjugate_gradient\u001b[0m\u001b[0;34m,\u001b[0m \u001b[0mgauss_seidel\u001b[0m\u001b[0;34m]\u001b[0m\u001b[0;34m,\u001b[0m \u001b[0;36m20\u001b[0m\u001b[0;34m)\u001b[0m\u001b[0;34m\u001b[0m\u001b[0m\n\u001b[0m",
      "\u001b[0;32m<ipython-input-96-e13fbe87ada1>\u001b[0m in \u001b[0;36mrun_test\u001b[0;34m(example_num, generate_plot, methods, iterations)\u001b[0m\n\u001b[1;32m     27\u001b[0m         \u001b[0mplt\u001b[0m\u001b[0;34m.\u001b[0m\u001b[0mxlabel\u001b[0m\u001b[0;34m(\u001b[0m\u001b[0;34m\"iteration\"\u001b[0m\u001b[0;34m)\u001b[0m\u001b[0;34m\u001b[0m\u001b[0m\n\u001b[1;32m     28\u001b[0m         \u001b[0mplt\u001b[0m\u001b[0;34m.\u001b[0m\u001b[0mtitle\u001b[0m\u001b[0;34m(\u001b[0m\u001b[0;34m\", \"\u001b[0m\u001b[0;34m.\u001b[0m\u001b[0mjoin\u001b[0m\u001b[0;34m(\u001b[0m\u001b[0mm_names\u001b[0m\u001b[0;34m)\u001b[0m \u001b[0;34m+\u001b[0m \u001b[0;34m\" (example {})\"\u001b[0m\u001b[0;34m.\u001b[0m\u001b[0mformat\u001b[0m\u001b[0;34m(\u001b[0m\u001b[0mexample_num\u001b[0m\u001b[0;34m)\u001b[0m\u001b[0;34m)\u001b[0m\u001b[0;34m\u001b[0m\u001b[0m\n\u001b[0;32m---> 29\u001b[0;31m         \u001b[0mplot\u001b[0m\u001b[0;34m.\u001b[0m\u001b[0msavefig\u001b[0m\u001b[0;34m(\u001b[0m\u001b[0;34m\"{}.pdf\"\u001b[0m\u001b[0;34m.\u001b[0m\u001b[0mformat\u001b[0m\u001b[0;34m(\u001b[0m\u001b[0;34m\",\"\u001b[0m\u001b[0;34m.\u001b[0m\u001b[0mjoin\u001b[0m\u001b[0;34m(\u001b[0m\u001b[0mm_names\u001b[0m\u001b[0;34m.\u001b[0m\u001b[0mreplace\u001b[0m\u001b[0;34m(\u001b[0m\u001b[0;34m\" \"\u001b[0m\u001b[0;34m,\u001b[0m \u001b[0;34m\"_\"\u001b[0m\u001b[0;34m)\u001b[0m\u001b[0;34m)\u001b[0m\u001b[0;34m)\u001b[0m\u001b[0;34m)\u001b[0m\u001b[0;34m\u001b[0m\u001b[0m\n\u001b[0m\u001b[1;32m     30\u001b[0m         \u001b[0mplt\u001b[0m\u001b[0;34m.\u001b[0m\u001b[0mshow\u001b[0m\u001b[0;34m(\u001b[0m\u001b[0;34m)\u001b[0m\u001b[0;34m\u001b[0m\u001b[0m\n\u001b[1;32m     31\u001b[0m \u001b[0;34m\u001b[0m\u001b[0m\n",
      "\u001b[0;31mAttributeError\u001b[0m: 'list' object has no attribute 'replace'"
     ]
    },
    {
     "data": {
      "image/png": "[encoded data removed]",
      "text/plain": [
       "<matplotlib.figure.Figure at 0x105e00438>"
      ]
     },
     "metadata": {},
     "output_type": "display_data"
    }
   ],
   "source": [
    "r = run_test(2, True, [jacobi_iterative, conjugate_gradient, gauss_seidel], 20)"
   ]
  },
  {
   "cell_type": "markdown",
   "metadata": {},
   "source": [
    "# Gausse Elimination"
   ]
  },
  {
   "cell_type": "code",
   "execution_count": 10,
   "metadata": {},
   "outputs": [],
   "source": [
    "def swap_rows(m, row_index_1, row_index_2):\n",
    "    cpy = m.copy()\n",
    "    cpy[[row_index_1, row_index_2]] = cpy[[row_index_2, row_index_1]]\n",
    "    return cpy\n",
    "\n",
    "def swap_rows_if_zero(m, b, pivot_row, pivot_col):\n",
    "    if m[pivot_row, pivot_col] != 0:\n",
    "        return m, b\n",
    "    \n",
    "    nonzero_indices = np.where(m[pivot_row:, pivot_col] != 0)\n",
    "    if nonzero_indices[0].size == 0:\n",
    "        return -1, -1\n",
    "    m = swap_rows(m, pivot_row, nonzero_indices[0][0] + pivot_row)\n",
    "    b = swap_rows(b, pivot_row, nonzero_indices[0][0] + pivot_row)\n",
    "    return m, b\n",
    "\n",
    "def swap_rows_pivot(m, b, pivot_row, pivot_col): \n",
    "    col = m[pivot_row:, pivot_col]\n",
    "    max_indices = np.where(col == max(col))\n",
    "    max_i = max_indices[0][0]\n",
    "    if col[max_i] == 0:\n",
    "        return -1, -1\n",
    "    m = swap_rows(m, pivot_row, max_i + pivot_row)\n",
    "    b = swap_rows(b, pivot_row, max_i + pivot_row)\n",
    "    \n",
    "    return m, b\n",
    "\n",
    "def scale_matrix(m, b):\n",
    "    rows = m.shape[0]\n",
    "    for i in range(rows):\n",
    "        row = np.array(m[i])\n",
    "        m[i] = row/max(row)\n",
    "        b[i] = b[i]/max(row)\n",
    "    return m, b"
   ]
  },
  {
   "cell_type": "code",
   "execution_count": 11,
   "metadata": {},
   "outputs": [],
   "source": [
    "def forward_elimination(A, b, partial_pivoting=True, scaled=True):\n",
    "    rows, columns = A.shape\n",
    "    if scaled:\n",
    "        A, b = scale_matrix(A, b)\n",
    "        \n",
    "    for j in range(columns): \n",
    "        if partial_pivoting:\n",
    "            A, b = swap_rows_pivot(A, b, j, j)\n",
    "        else:\n",
    "            A, b = swap_rows_if_zero(A, b, j, j)\n",
    "            \n",
    "        if type(A) is int:\n",
    "            return \"System does not have unique solution\", False\n",
    "        a_jj = A[j, j]\n",
    "        for i in range(1 + j, rows):\n",
    "            a_ij = A[i, j]\n",
    "            A[i] = A[i] - (A[j]*a_ij/a_jj) \n",
    "            b[i] = b[i] - (b[j]*a_ij/a_jj)\n",
    "            \n",
    "    return A, b"
   ]
  },
  {
   "cell_type": "code",
   "execution_count": 12,
   "metadata": {},
   "outputs": [],
   "source": [
    "# A -> n x m matrix, b -> 1 x m matrix\n",
    "def backward_substitution(A, b):\n",
    "    x = []\n",
    "    rows, columns = A.shape\n",
    "    A = A[::-1, ::-1]\n",
    "    b = b[::-1]\n",
    "    for i in range(rows):\n",
    "        x.append((b[i] - sum(A[i, :i]))/A[i,i])\n",
    "        A[:,i] = A[:, i]*x[i]\n",
    "        \n",
    "        \n",
    "    return x[::-1]\n"
   ]
  },
  {
   "cell_type": "code",
   "execution_count": 13,
   "metadata": {},
   "outputs": [],
   "source": [
    "def gauss(A, b, partial_pivoting=True, scaled=True):\n",
    "    A, b = forward_elimination(A, b, partial_pivoting, scaled)\n",
    "    if type(A) is str:\n",
    "        print(A)\n",
    "        return [0]\n",
    "    return backward_substitution(A, b)"
   ]
  },
  {
   "cell_type": "markdown",
   "metadata": {},
   "source": [
    "No Pivoting"
   ]
  },
  {
   "cell_type": "code",
   "execution_count": 14,
   "metadata": {},
   "outputs": [
    {
     "name": "stdout",
     "output_type": "stream",
     "text": [
      "[1.0000000000001614, 1.0, 0.9999999999999687]\n",
      " \n",
      "[1 1 1]\n",
      " \n"
     ]
    }
   ],
   "source": [
    "A, b, x = ex_4()\n",
    "\n",
    "p_x = gauss(A, b, partial_pivoting=False, scaled=False)\n",
    "p(p_x, x)"
   ]
  },
  {
   "cell_type": "markdown",
   "metadata": {},
   "source": [
    "Partial Pivoting"
   ]
  },
  {
   "cell_type": "code",
   "execution_count": 15,
   "metadata": {},
   "outputs": [
    {
     "name": "stdout",
     "output_type": "stream",
     "text": [
      "[1.0000000000001614, 1.0, 1.0000000000000264]\n",
      " \n",
      "[1 1 1]\n",
      " \n"
     ]
    }
   ],
   "source": [
    "A, b, x = ex_4()\n",
    "p_x = gauss(A, b, scaled=False)\n",
    "\n",
    "p(p_x, x)"
   ]
  },
  {
   "cell_type": "markdown",
   "metadata": {},
   "source": [
    "Scaled Partial Pivoting"
   ]
  },
  {
   "cell_type": "code",
   "execution_count": 16,
   "metadata": {},
   "outputs": [
    {
     "name": "stdout",
     "output_type": "stream",
     "text": [
      "[2.999999999999999, 4.000000000000001, -4.999999999999999]\n",
      " \n",
      "[ 3  4 -5]\n",
      " \n"
     ]
    }
   ],
   "source": [
    "A, b, x = ex_3()\n",
    "p_x = gauss(A, b)\n",
    "\n",
    "p(p_x, x)"
   ]
  },
  {
   "cell_type": "markdown",
   "metadata": {},
   "source": [
    "# Jacobi Iterative Method"
   ]
  },
  {
   "cell_type": "code",
   "execution_count": 17,
   "metadata": {},
   "outputs": [],
   "source": [
    "def jacobi_iterative(A, b, num_iterations = -1):\n",
    "    D = np.diagflat(np.diag(A))\n",
    "    R = A - D\n",
    "    L = np.tril(R)\n",
    "    U = np.triu(R)\n",
    "    inverse_D = inv(D)\n",
    "    \n",
    "    converg_thresh = .001\n",
    "    error = np.inf\n",
    "    prev_x = np.zeros(b.shape)\n",
    "    iterations = [prev_x]\n",
    "    i = 0\n",
    "    \n",
    "    while i < num_iterations if num_iterations > 0 else error > converg_thresh:\n",
    "        x = inverse_D @ (b - (R @ prev_x))\n",
    "        iterations.append(x)\n",
    "        error = np.linalg.norm(x - prev_x) / np.linalg.norm(x)\n",
    "        prev_x = x\n",
    "        i += 1\n",
    "    \n",
    "    return x, iterations"
   ]
  },
  {
   "cell_type": "code",
   "execution_count": 18,
   "metadata": {},
   "outputs": [
    {
     "name": "stdout",
     "output_type": "stream",
     "text": [
      "[[ 3.3330e+00  1.5920e+04 -1.0333e+01]\n",
      " [ 2.2220e+00  1.6710e+01  9.6120e+00]\n",
      " [ 1.5611e+00  5.1791e+00  1.6852e+00]]\n",
      "Estimation:\n",
      " \n",
      "[1.16100397e+155 6.58605230e+152 4.06024608e+153]\n",
      " \n",
      "x:\n",
      " \n",
      "[1 1 1]\n",
      " \n"
     ]
    },
    {
     "name": "stderr",
     "output_type": "stream",
     "text": [
      "/usr/local/Cellar/python3/3.5.0/Frameworks/Python.framework/Versions/3.5/lib/python3.5/site-packages/ipykernel_launcher.py:17: RuntimeWarning: invalid value encountered in double_scalars\n"
     ]
    }
   ],
   "source": [
    "A, b, x = ex(4)\n",
    "print(A)\n",
    "p(\"Estimation:\", jacobi_iterative(A,b)[0], \"x:\", x)"
   ]
  },
  {
   "cell_type": "code",
   "execution_count": 19,
   "metadata": {},
   "outputs": [
    {
     "name": "stdout",
     "output_type": "stream",
     "text": [
      "Example 2 (10 iterations)\n",
      " \n",
      "[7.88997972 3.04665788 5.8724788  2.05913853 4.2918644  1.38021813\n",
      " 3.14011304 0.91765583 2.30102584 0.60461545 1.68882905]\n",
      " \n",
      "Example 2 (20 iterations)\n",
      " \n",
      "[7.88997972 3.04665788 5.8724788  2.05913853 4.2918644  1.38021813\n",
      " 3.14011304 0.91765583 2.30102584 0.60461545 1.68882905 0.39450179\n",
      " 1.24147335 0.25501134 0.91404444 0.16384175 0.67399249 0.1056577\n",
      " 0.4976984  0.06989086 0.36800066]\n",
      " \n",
      "Example 2 (30 iterations)\n",
      " \n",
      "[7.88997972 3.04665788 5.8724788  2.05913853 4.2918644  1.38021813\n",
      " 3.14011304 0.91765583 2.30102584 0.60461545 1.68882905 0.39450179\n",
      " 1.24147335 0.25501134 0.91404444 0.16384175 0.67399249 0.1056577\n",
      " 0.4976984  0.06989086 0.36800066 0.04904851 0.27241238 0.03748321\n",
      " 0.20183479 0.03094634 0.1496278  0.02671854 0.11093804 0.02344382\n",
      " 0.0822123 ]\n",
      " \n",
      "Example 2 (40 iterations)\n",
      " \n",
      "[7.88997972 3.04665788 5.8724788  2.05913853 4.2918644  1.38021813\n",
      " 3.14011304 0.91765583 2.30102584 0.60461545 1.68882905 0.39450179\n",
      " 1.24147335 0.25501134 0.91404444 0.16384175 0.67399249 0.1056577\n",
      " 0.4976984  0.06989086 0.36800066 0.04904851 0.27241238 0.03748321\n",
      " 0.20183479 0.03094634 0.1496278  0.02671854 0.11093804 0.02344382\n",
      " 0.0822123  0.0205947  0.06084487 0.01801647 0.04492162 0.01568578\n",
      " 0.03303397 0.01361042 0.0241436  0.01179516 0.01748382]\n",
      " \n",
      "Example 3 (10 iterations)\n",
      " \n",
      "[7.07106781 4.71699057 3.72910847 2.9481191  2.3306928  1.84257444\n",
      " 1.456683   1.15160902 0.91042687 0.71975564 0.5690168 ]\n",
      " \n",
      "Example 3 (20 iterations)\n",
      " \n",
      "[7.07106781 4.71699057 3.72910847 2.9481191  2.3306928  1.84257444\n",
      " 1.456683   1.15160902 0.91042687 0.71975564 0.5690168  0.44984728\n",
      " 0.3556355  0.28115455 0.22227219 0.17572159 0.13892012 0.10982599\n",
      " 0.08682507 0.06864125 0.05426567]\n",
      " \n",
      "Example 3 (30 iterations)\n",
      " \n",
      "[7.07106781e+00 4.71699057e+00 3.72910847e+00 2.94811910e+00\n",
      " 2.33069280e+00 1.84257444e+00 1.45668300e+00 1.15160902e+00\n",
      " 9.10426873e-01 7.19755641e-01 5.69016796e-01 4.49847275e-01\n",
      " 3.55635497e-01 2.81154547e-01 2.22272186e-01 1.75721592e-01\n",
      " 1.38920116e-01 1.09825995e-01 8.68250726e-02 6.86412468e-02\n",
      " 5.42656704e-02 4.29007793e-02 3.39160440e-02 2.68129871e-02\n",
      " 2.11975275e-02 1.67581169e-02 1.32484547e-02 1.04738231e-02\n",
      " 8.28028418e-03 6.54613942e-03 5.17517761e-03]\n",
      " \n",
      "Example 3 (40 iterations)\n",
      " \n",
      "[7.07106781e+00 4.71699057e+00 3.72910847e+00 2.94811910e+00\n",
      " 2.33069280e+00 1.84257444e+00 1.45668300e+00 1.15160902e+00\n",
      " 9.10426873e-01 7.19755641e-01 5.69016796e-01 4.49847275e-01\n",
      " 3.55635497e-01 2.81154547e-01 2.22272186e-01 1.75721592e-01\n",
      " 1.38920116e-01 1.09825995e-01 8.68250726e-02 6.86412468e-02\n",
      " 5.42656704e-02 4.29007793e-02 3.39160440e-02 2.68129871e-02\n",
      " 2.11975275e-02 1.67581169e-02 1.32484547e-02 1.04738231e-02\n",
      " 8.28028418e-03 6.54613942e-03 5.17517761e-03 4.09133714e-03\n",
      " 3.23448601e-03 2.55708571e-03 2.02155375e-03 1.59817857e-03\n",
      " 1.26347110e-03 9.98861605e-04 7.89669435e-04 6.24288503e-04\n",
      " 4.93543397e-04]\n",
      " \n",
      "Example 4 (10 iterations)\n",
      " \n",
      "[1.73205081e+00 4.77337917e+03 5.59792926e+03 3.02908356e+06\n",
      " 1.45606439e+07 1.92920161e+09 1.68582944e+10 1.25960140e+12\n",
      " 1.55797759e+13 8.41347226e+14 1.30777931e+16]\n",
      " \n",
      "Example 4 (20 iterations)\n",
      " \n",
      "[1.73205081e+00 4.77337917e+03 5.59792926e+03 3.02908356e+06\n",
      " 1.45606439e+07 1.92920161e+09 1.68582944e+10 1.25960140e+12\n",
      " 1.55797759e+13 8.41347226e+14 1.30777931e+16 5.73022798e+17\n",
      " 1.04306785e+19 3.96568138e+20 8.07071382e+21 2.77968321e+23\n",
      " 6.12584760e+24 1.96772504e+26 4.59112684e+27 1.40345131e+29\n",
      " 3.41153198e+30]\n",
      " \n",
      "Example 4 (30 iterations)\n",
      " \n",
      "[1.73205081e+00 4.77337917e+03 5.59792926e+03 3.02908356e+06\n",
      " 1.45606439e+07 1.92920161e+09 1.68582944e+10 1.25960140e+12\n",
      " 1.55797759e+13 8.41347226e+14 1.30777931e+16 5.73022798e+17\n",
      " 1.04306785e+19 3.96568138e+20 8.07071382e+21 2.77968321e+23\n",
      " 6.12584760e+24 1.96772504e+26 4.59112684e+27 1.40345131e+29\n",
      " 3.41153198e+30 1.00664181e+32 2.52008427e+33 7.25041553e+34\n",
      " 1.85392647e+36 5.23817584e+37 1.35991737e+39 3.79286338e+40\n",
      " 9.95504111e+41 2.75079916e+43 7.27682199e+44]\n",
      " \n",
      "Example 4 (40 iterations)\n",
      " \n",
      "[1.73205081e+00 4.77337917e+03 5.59792926e+03 3.02908356e+06\n",
      " 1.45606439e+07 1.92920161e+09 1.68582944e+10 1.25960140e+12\n",
      " 1.55797759e+13 8.41347226e+14 1.30777931e+16 5.73022798e+17\n",
      " 1.04306785e+19 3.96568138e+20 8.07071382e+21 2.77968321e+23\n",
      " 6.12584760e+24 1.96772504e+26 4.59112684e+27 1.40345131e+29\n",
      " 3.41153198e+30 1.00664181e+32 2.52008427e+33 7.25041553e+34\n",
      " 1.85392647e+36 5.23817584e+37 1.35991737e+39 3.79286338e+40\n",
      " 9.95504111e+41 2.75079916e+43 7.27682199e+44 1.99737981e+46\n",
      " 5.31361731e+47 1.45154613e+49 3.87719264e+50 1.05552046e+52\n",
      " 2.82757839e+53 7.67880698e+54 2.06132942e+56 5.58802655e+57\n",
      " 1.50231944e+59]\n",
      " \n"
     ]
    }
   ],
   "source": [
    "iters = []\n",
    "for i in range(2, 5):\n",
    "    A, b, x = ex(i)\n",
    "    for j in range(1,5):\n",
    "        p_x, ite = jacobi_iterative(A, b, j * 10)\n",
    "        p(\"Example {} ({} iterations)\".format(i, j*10), np.linalg.norm(x - ite, axis=1))"
   ]
  },
  {
   "cell_type": "markdown",
   "metadata": {},
   "source": [
    "# Gauss-Seidel"
   ]
  },
  {
   "cell_type": "code",
   "execution_count": 20,
   "metadata": {},
   "outputs": [],
   "source": [
    "def gauss_seidel(A, b, num_iterations = -1):\n",
    "    L = np.tril(A)\n",
    "    U = A - L\n",
    "    x0 = np.random.random(b.shape)\n",
    "    inv_L = inv(L) \n",
    "    \n",
    "    converg_thresh = .001\n",
    "    error = np.inf\n",
    "    prev_x = np.zeros(b.shape)\n",
    "    iterations = [prev_x]\n",
    "    i = 0\n",
    "    while i < num_iterations if num_iterations > 0 else error > converg_thresh:\n",
    "        x = inv_L @ (b - (U @ prev_x))\n",
    "        iterations.append(x)\n",
    "        error = np.linalg.norm(x - prev_x) / np.linalg.norm(x)\n",
    "        prev_x = x\n",
    "        i += 1\n",
    "    \n",
    "    \n",
    "    return x, iterations"
   ]
  },
  {
   "cell_type": "code",
   "execution_count": 21,
   "metadata": {},
   "outputs": [
    {
     "name": "stdout",
     "output_type": "stream",
     "text": [
      "Estimation:\n",
      " \n",
      "[ 3.00682121  3.99431566 -5.00142109]\n",
      " \n",
      "x:\n",
      " \n",
      "[ 3  4 -5]\n",
      " \n"
     ]
    }
   ],
   "source": [
    "# slide 85/86\n",
    "A = np.array([\n",
    "    [4, 3, 0],\n",
    "    [3, 4, -1],\n",
    "    [0, -1, 4]\n",
    "])\n",
    "b = np.array([24, 30, -24])\n",
    "x = np.array([3,4,-5])\n",
    "\n",
    "p(\"Estimation:\", gauss_seidel(A, b)[0], \"x:\", x)"
   ]
  },
  {
   "cell_type": "code",
   "execution_count": 22,
   "metadata": {},
   "outputs": [],
   "source": [
    "# iters = []\n",
    "# for i in range(1, 5):\n",
    "#     A, b, x = ex(i)\n",
    "#     for j in range(1,5):\n",
    "#         p_x, ite = gauss_seidel(A, b, j * 10)\n",
    "#         p(\"Example {} ({} iterations)\".format(i, j*10), np.linalg.norm(x - ite, axis=1))"
   ]
  },
  {
   "cell_type": "markdown",
   "metadata": {},
   "source": [
    "# Successive Over-Relaxation"
   ]
  },
  {
   "cell_type": "code",
   "execution_count": 71,
   "metadata": {},
   "outputs": [],
   "source": [
    "def successive_over_relax(A, b, w=1.2, num_iterations = -1):\n",
    "    D = np.diagflat(np.diag(A))\n",
    "    L = np.tril(A, -1)\n",
    "    U = np.triu(A, 1)\n",
    "    \n",
    "    converg_thresh = .001\n",
    "    \n",
    "    error = np.inf\n",
    "    i = 0\n",
    "    prev_x = np.ones(b.shape)\n",
    "    iterations = [prev_x]\n",
    "    while i < num_iterations if num_iterations > 0 else error > converg_thresh:\n",
    "        # https://en.wikipedia.org/wiki/Successive_over-relaxation\n",
    "        x = inv(D + (w * L)) @ ((w * b) - (((w * U) + ((w-1)*D)) @ prev_x))\n",
    "        error = np.linalg.norm(x - prev_x) / np.linalg.norm(x)\n",
    "        prev_x = x\n",
    "        iterations.append(x)\n",
    "        i += 1\n",
    "    \n",
    "    return x, iterations"
   ]
  },
  {
   "cell_type": "code",
   "execution_count": 88,
   "metadata": {},
   "outputs": [
    {
     "name": "stdout",
     "output_type": "stream",
     "text": [
      "EXAMPLE 2\n",
      " \n",
      "Est (91 iterations):\n",
      " \n",
      "[ 7.86275553  0.42288764 -0.07382067 -0.5410192   0.0106276 ]\n",
      " \n",
      "X:\n",
      " \n",
      "[ 7.85971307  0.42292641 -0.07359224 -0.54064302  0.01062616]\n",
      " \n",
      "Err: \n",
      " \n",
      "[7.88997972e+00 2.88416589e+00 2.06947307e+00 1.47120086e+00\n",
      " 1.04559110e+00 7.42849406e-01 5.27507381e-01 3.74333352e-01\n",
      " 2.65379788e-01 1.87880500e-01 1.32754829e-01 9.35436493e-02\n",
      " 6.56525545e-02 4.58135221e-02 3.17020005e-02 2.16645424e-02\n",
      " 1.45250781e-02 9.44713975e-03 5.83593152e-03 3.26896441e-03\n",
      " 1.44870562e-03 2.38709168e-04 8.13711049e-04 1.46066893e-03\n",
      " 1.92532648e-03 2.25665307e-03 2.49256855e-03 2.66046483e-03\n",
      " 2.77992666e-03 2.86491650e-03 2.92537761e-03 2.96838742e-03\n",
      " 2.99898223e-03 3.02074532e-03 3.03622594e-03 3.04723760e-03\n",
      " 3.05507035e-03 3.06064189e-03 3.06460498e-03 3.06742396e-03\n",
      " 3.06942913e-03 3.07085542e-03 3.07186995e-03 3.07259159e-03\n",
      " 3.07310490e-03 3.07347002e-03 3.07372973e-03 3.07391446e-03\n",
      " 3.07404587e-03 3.07413933e-03 3.07420582e-03 3.07425311e-03\n",
      " 3.07428675e-03 3.07431067e-03 3.07432769e-03 3.07433980e-03\n",
      " 3.07434841e-03 3.07435453e-03 3.07435889e-03 3.07436199e-03\n",
      " 3.07436419e-03 3.07436576e-03 3.07436688e-03 3.07436767e-03\n",
      " 3.07436824e-03 3.07436864e-03 3.07436892e-03 3.07436913e-03\n",
      " 3.07436927e-03 3.07436937e-03 3.07436945e-03 3.07436950e-03\n",
      " 3.07436953e-03 3.07436956e-03 3.07436958e-03 3.07436959e-03\n",
      " 3.07436960e-03 3.07436961e-03 3.07436961e-03 3.07436962e-03\n",
      " 3.07436962e-03 3.07436962e-03 3.07436962e-03 3.07436962e-03\n",
      " 3.07436962e-03 3.07436963e-03 3.07436963e-03 3.07436963e-03\n",
      " 3.07436963e-03 3.07436963e-03 3.07436963e-03]\n",
      " \n",
      "EXAMPLE 3\n",
      " \n",
      "Est (91 iterations):\n",
      " \n",
      "[ 3.  4. -5.]\n",
      " \n",
      "X:\n",
      " \n",
      "[ 3  4 -5]\n",
      " \n",
      "Err: \n",
      " \n",
      "[7.07106781e+00 3.17214439e+00 9.88705751e-01 6.17941095e-01\n",
      " 3.86213184e-01 2.41383240e-01 1.50864525e-01 9.42903281e-02\n",
      " 5.89314551e-02 3.68321594e-02 2.30200996e-02 1.43875623e-02\n",
      " 8.99222642e-03 5.62014151e-03 3.51258845e-03 2.19536778e-03\n",
      " 1.37210486e-03 8.57565539e-04 5.35978462e-04 3.34986539e-04\n",
      " 2.09366587e-04 1.30854117e-04 8.17838229e-05 5.11148893e-05\n",
      " 3.19468058e-05 1.99667536e-05 1.24792210e-05 7.79951314e-06\n",
      " 4.87469571e-06 3.04668482e-06 1.90417801e-06 1.19011126e-06\n",
      " 7.43819536e-07 4.64887210e-07 2.90554506e-07 1.81596566e-07\n",
      " 1.13497854e-07 7.09361595e-08 4.43351000e-08 2.77094378e-08\n",
      " 1.73183981e-08 1.08239985e-08 6.76499853e-09 4.22812347e-09\n",
      " 2.64257718e-09 1.65161142e-09 1.03225715e-09 6.45160861e-10\n",
      " 4.03225334e-10 2.52014809e-10 1.57508986e-10 9.84425335e-11\n",
      " 6.15265694e-11 3.84541761e-11 2.40337688e-11 1.50211336e-11\n",
      " 9.38782600e-12 5.86729299e-12 3.66707218e-12 2.29184993e-12\n",
      " 1.43190091e-12 8.94702994e-13 5.59824607e-13 3.49953568e-13\n",
      " 2.19050801e-13 1.37219973e-13 8.58747283e-14 5.40130062e-14\n",
      " 3.38557956e-14 2.13947783e-14 1.33670114e-14 7.69185075e-15\n",
      " 4.52883909e-15 2.22044605e-15 1.25607397e-15 1.25607397e-15\n",
      " 1.25607397e-15 1.25607397e-15 1.25607397e-15 1.25607397e-15\n",
      " 1.25607397e-15 1.25607397e-15 1.25607397e-15 1.25607397e-15\n",
      " 1.25607397e-15 1.25607397e-15 1.25607397e-15 1.25607397e-15\n",
      " 1.25607397e-15 1.25607397e-15 1.25607397e-15]\n",
      " \n"
     ]
    }
   ],
   "source": [
    "iters = []\n",
    "for i in range(2, 4):\n",
    "    A, b, x = ex(i)\n",
    "    p_x, ite = gauss_seidel(A, b, 90)\n",
    "    p(\"EXAMPLE {}\".format(i), \"Est ({} iterations):\".format(len(ite)), p_x, \"X:\", x, \"Err: \", np.linalg.norm(x - ite, axis=1))\n",
    "#     for j in range(1,5):\n",
    "#         p_x, ite = successive_over_relax(A, b, j * 10)\n",
    "\n"
   ]
  },
  {
   "cell_type": "code",
   "execution_count": 89,
   "metadata": {},
   "outputs": [
    {
     "name": "stdout",
     "output_type": "stream",
     "text": [
      "EXAMPLE 2\n",
      " \n",
      "Est (14 iterations):\n",
      " \n",
      "[ 7.85413921  0.42273772 -0.07369662 -0.54005107  0.01062286]\n",
      " \n",
      "X:\n",
      " \n",
      "[ 7.85971307  0.42292641 -0.07359224 -0.54064302  0.01062616]\n",
      " \n",
      "Err: \n",
      " \n",
      "[7.20372953e+00 1.47204960e+01 5.41349828e+00 3.58194025e+00\n",
      " 1.84439341e+00 1.03689096e+00 5.64848546e-01 3.10028569e-01\n",
      " 1.69067344e-01 9.16389642e-02 4.90300759e-02 2.55926018e-02\n",
      " 1.26999750e-02 5.60935586e-03]\n",
      " \n",
      "EXAMPLE 3\n",
      " \n",
      "Est (8 iterations):\n",
      " \n",
      "[ 3.00087313  3.99950821 -5.00017935]\n",
      " \n",
      "X:\n",
      " \n",
      "[ 3  4 -5]\n",
      " \n",
      "Err: \n",
      " \n",
      "[7.00000000e+00 3.39066203e+00 3.68807280e-01 1.34873506e-01\n",
      " 1.25405034e-02 9.03503676e-03 1.71029620e-03 1.01802830e-03]\n",
      " \n"
     ]
    }
   ],
   "source": [
    "iters = []\n",
    "for i in range(2, 4):\n",
    "    A, b, x = ex(i)\n",
    "    p_x, ite = successive_over_relax(A, b, 1.2)\n",
    "    p(\"EXAMPLE {}\".format(i), \"Est ({} iterations):\".format(len(ite)), p_x, \"X:\", x, \"Err: \", np.linalg.norm(x - ite, axis=1))\n",
    "#     for j in range(1,5):\n",
    "#         p_x, ite = successive_over_relax(A, b, j * 10)\n",
    "\n"
   ]
  },
  {
   "cell_type": "markdown",
   "metadata": {},
   "source": [
    "# Iterative Refinement  "
   ]
  },
  {
   "cell_type": "code",
   "execution_count": 25,
   "metadata": {},
   "outputs": [
    {
     "name": "stdout",
     "output_type": "stream",
     "text": [
      "[ 0.0000000e+00  0.0000000e+00 -8.8817842e-16]\n",
      "[ 4.44089210e-16 -5.92118946e-16 -1.03620816e-15]\n",
      "[0. 0. 0.]\n",
      "[0. 0. 0.]\n",
      "estimated:\n",
      " \n",
      "[ 3.  4. -5.]\n",
      " \n",
      "actual\n",
      " \n",
      "[ 3  4 -5]\n",
      " \n"
     ]
    }
   ],
   "source": [
    "def iterative_refinement(A, b, method, num_iterations=2):\n",
    "    x = np.array(method(A,b)) \n",
    "    for k in range(num_iterations):\n",
    "        r = b - A @ x\n",
    "        print(r)\n",
    "        y = np.array(method(A, r))\n",
    "        print(y)\n",
    "        x = x + y\n",
    "    \n",
    "    return x\n",
    "\n",
    "A, b, x = ex_3()\n",
    "x_ref = iterative_refinement(A, b, gauss)\n",
    "\n",
    "p(\"estimated:\", x_ref, \"actual\", x)"
   ]
  },
  {
   "cell_type": "markdown",
   "metadata": {},
   "source": [
    "# Conditioned Conjugate Gradient"
   ]
  },
  {
   "cell_type": "code",
   "execution_count": 90,
   "metadata": {},
   "outputs": [],
   "source": [
    "def conjugate_gradient(A, b, num_iterations = -1):\n",
    "    x = np.ones(b.shape)\n",
    "    iterations = [x]\n",
    "    prev_r = b - (A @ x)\n",
    "    v = prev_r\n",
    "    i = 0\n",
    "    while i < num_iterations if num_iterations > 0 else not np.allclose(prev_r, np.zeros(prev_r.shape)):\n",
    "        Av = A @ v\n",
    "        \n",
    "        t = (prev_r.T @ prev_r) / (v.T @ Av)\n",
    "        x = x + (t * v)\n",
    "        iterations.append(x)\n",
    "        \n",
    "        r = prev_r - (t * Av)\n",
    "        s = (r.T @ r) / (prev_r.T @ prev_r)\n",
    "        v = r + (s * v)\n",
    "        \n",
    "        prev_r = r\n",
    "        \n",
    "        i += 1\n",
    "    \n",
    "    return x, iterations"
   ]
  },
  {
   "cell_type": "code",
   "execution_count": 27,
   "metadata": {},
   "outputs": [
    {
     "name": "stdout",
     "output_type": "stream",
     "text": [
      "Estimation:\n",
      " \n",
      "[ 3.  4. -5.]\n",
      " \n",
      "x:\n",
      " \n",
      "[ 3  4 -5]\n",
      " \n"
     ]
    }
   ],
   "source": [
    "p(\"Estimation:\", conjugate_gradient(A, b)[0], \"x:\", x)"
   ]
  },
  {
   "cell_type": "code",
   "execution_count": 28,
   "metadata": {},
   "outputs": [],
   "source": [
    "def cc_gradient(C, A, b, num_iterations = -1):\n",
    "    x = np.ones(b.shape)\n",
    "    r = b - (A @ x)\n",
    "    iterations = [x]\n",
    "    prev_w = inv(C) @ r\n",
    "    v = inv(C.T) @ prev_w\n",
    "    i = 0\n",
    "    while i < num_iterations if num_iterations > 0 else not np.allclose(r, np.zeros(r.shape)):\n",
    "        Av = A @ v\n",
    "        \n",
    "        t = (prev_w.T @ prev_w) / (v.T @ Av)\n",
    "        x = x + (t * v)\n",
    "        iterations.append(x)\n",
    "        \n",
    "        r = r - (t * Av)\n",
    "        \n",
    "        w = inv(C) @ r\n",
    "        s = (w.T @ w) / (prev_w.T @ prev_w)\n",
    "        v = (inv(C.T) @ w) + (s * v)\n",
    "        \n",
    "        prev_w = w\n",
    "        \n",
    "        i += 1\n",
    "    \n",
    "    return x, iterations"
   ]
  },
  {
   "cell_type": "code",
   "execution_count": 17,
   "metadata": {},
   "outputs": [
    {
     "name": "stdout",
     "output_type": "stream",
     "text": [
      "Estimation:\n",
      " \n",
      "[ 3.  4. -5.]\n",
      " \n",
      "x:\n",
      " \n",
      "[ 3  4 -5]\n",
      " \n"
     ]
    }
   ],
   "source": [
    "p(\"Estimation:\", cc_gradient(np.diagflat(np.diag(A)), A, b)[0], \"x:\", x)"
   ]
  },
  {
   "cell_type": "code",
   "execution_count": null,
   "metadata": {},
   "outputs": [],
   "source": []
  }
 ],
 "metadata": {
  "kernelspec": {
   "display_name": "Python 3",
   "language": "python",
   "name": "python3"
  },
  "language_info": {
   "codemirror_mode": {
    "name": "ipython",
    "version": 3
   },
   "file_extension": ".py",
   "mimetype": "text/x-python",
   "name": "python",
   "nbconvert_exporter": "python",
   "pygments_lexer": "ipython3",
   "version": "3.5.0"
  }
 },
 "nbformat": 4,
 "nbformat_minor": 2
}
