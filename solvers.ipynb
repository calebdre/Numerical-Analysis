{
 "cells": [
  {
   "cell_type": "code",
   "execution_count": 4,
   "metadata": {},
   "outputs": [],
   "source": [
    "from IPython.core.debugger import set_trace\n",
    "import unittest\n",
    "tc = unittest.TestCase('__init__')\n",
    "\n",
    "import numpy as np\n",
    "from numpy.linalg import inv\n",
    "\n",
    "%matplotlib inline\n",
    "import matplotlib.pyplot as plt\n",
    "plt.style.use = \"default\"\n",
    "# mathjax docs: https://math.meta.stackexchange.com/questions/5020/mathjax-basic-tutorial-and-quick-reference"
   ]
  },
  {
   "cell_type": "code",
   "execution_count": 5,
   "metadata": {},
   "outputs": [],
   "source": [
    "def p(*args):\n",
    "    for arg in args:\n",
    "        print(arg)\n",
    "        print(\" \")"
   ]
  },
  {
   "cell_type": "markdown",
   "metadata": {},
   "source": [
    "# The Problem\n",
    "\n",
    "Given $A \\in \\mathbb{R}^{mxn} \\text{ and } b \\in \\mathbb{R}^n$ in the equation:\n",
    "\n",
    "$Ax = b$\n",
    "  \n",
    "We want to solve for $x$"
   ]
  },
  {
   "cell_type": "code",
   "execution_count": 6,
   "metadata": {},
   "outputs": [],
   "source": [
    "def ex_1():\n",
    "    return (np.array([\n",
    "        [4, -1, 2 ,-1],\n",
    "        [2, 6, 3, -3],\n",
    "        [1, 1, 5, 0],\n",
    "        [1, -1, 4, 7]\n",
    "    ], dtype=np.float64), \n",
    "    np.array([[-8, -20, -2, 4]], dtype=np.float64).T,\n",
    "    np.array([[2, 2, 3, -7]], dtype=np.float64).T)\n",
    "\n",
    "\n",
    "def ex_2():\n",
    "    # slide 115\n",
    "    return (\n",
    "        np.array([\n",
    "            [.2, .1, 1, 1, 0],\n",
    "            [.1, 4, -1, 1, -1],\n",
    "            [1, -1, 60, 0, -1],\n",
    "            [1, 1, 0 , 8, 4],\n",
    "            [0, -1, -2, 4, 700]    \n",
    "        ]),\n",
    "        np.array([1,2,3,4,5], dtype=np.float64).T,\n",
    "        np.array([7.859713071, 0.4229264082, -.07359223906, -.5406430164, .01062616286], dtype=np.float64).T\n",
    "    )\n",
    "\n",
    "def ex_3():\n",
    "    return (\n",
    "        np.array([\n",
    "            [4., 3., 0.],\n",
    "            [3., 4., -1.],\n",
    "            [0., -1., 4.]\n",
    "        ]),\n",
    "        np.array([24., 30., -24.]),\n",
    "        np.array([3, 4, -5])\n",
    "    )\n",
    "\n",
    "def ex_4():\n",
    "    return (\n",
    "        np.array([\n",
    "            [3.3330, 15920, -10.333],\n",
    "            [2.2220, 16.710, 9.6120],\n",
    "            [1.5611, 5.1791, 1.6852]\n",
    "        ]),\n",
    "        np.array([15913, 28.544, 8.4254]),\n",
    "        np.array([1, 1, 1])\n",
    "    )\n",
    "\n",
    "def ex(number):\n",
    "    if number == 1:\n",
    "        return ex_1()\n",
    "    elif number == 2:\n",
    "        return ex_2()\n",
    "    elif number == 3:\n",
    "        return ex_3()\n",
    "    elif number == 4:\n",
    "        return ex_4()"
   ]
  },
  {
   "cell_type": "markdown",
   "metadata": {},
   "source": [
    "# Gausse Elimination"
   ]
  },
  {
   "cell_type": "code",
   "execution_count": 10,
   "metadata": {},
   "outputs": [],
   "source": [
    "def swap_rows(m, row_index_1, row_index_2):\n",
    "    cpy = m.copy()\n",
    "    cpy[[row_index_1, row_index_2]] = cpy[[row_index_2, row_index_1]]\n",
    "    return cpy\n",
    "\n",
    "def swap_rows_if_zero(m, b, pivot_row, pivot_col):\n",
    "    if m[pivot_row, pivot_col] != 0:\n",
    "        return m, b\n",
    "    \n",
    "    nonzero_indices = np.where(m[pivot_row:, pivot_col] != 0)\n",
    "    if nonzero_indices[0].size == 0:\n",
    "        return -1, -1\n",
    "    m = swap_rows(m, pivot_row, nonzero_indices[0][0] + pivot_row)\n",
    "    b = swap_rows(b, pivot_row, nonzero_indices[0][0] + pivot_row)\n",
    "    return m, b\n",
    "\n",
    "def swap_rows_pivot(m, b, pivot_row, pivot_col): \n",
    "    col = m[pivot_row:, pivot_col]\n",
    "    max_indices = np.where(col == max(col))\n",
    "    max_i = max_indices[0][0]\n",
    "    if col[max_i] == 0:\n",
    "        return -1, -1\n",
    "    m = swap_rows(m, pivot_row, max_i + pivot_row)\n",
    "    b = swap_rows(b, pivot_row, max_i + pivot_row)\n",
    "    \n",
    "    return m, b\n",
    "\n",
    "def scale_matrix(m, b):\n",
    "    rows = m.shape[0]\n",
    "    for i in range(rows):\n",
    "        row = np.array(m[i])\n",
    "        m[i] = row/max(row)\n",
    "        b[i] = b[i]/max(row)\n",
    "    return m, b"
   ]
  },
  {
   "cell_type": "code",
   "execution_count": 11,
   "metadata": {},
   "outputs": [],
   "source": [
    "def forward_elimination(A, b, partial_pivoting=True, scaled=True):\n",
    "    rows, columns = A.shape\n",
    "    if scaled:\n",
    "        A, b = scale_matrix(A, b)\n",
    "        \n",
    "    for j in range(columns): \n",
    "        if partial_pivoting:\n",
    "            A, b = swap_rows_pivot(A, b, j, j)\n",
    "        else:\n",
    "            A, b = swap_rows_if_zero(A, b, j, j)\n",
    "            \n",
    "        if type(A) is int:\n",
    "            return \"System does not have unique solution\", False\n",
    "        a_jj = A[j, j]\n",
    "        for i in range(1 + j, rows):\n",
    "            a_ij = A[i, j]\n",
    "            A[i] = A[i] - (A[j]*a_ij/a_jj) \n",
    "            b[i] = b[i] - (b[j]*a_ij/a_jj)\n",
    "            \n",
    "    return A, b"
   ]
  },
  {
   "cell_type": "code",
   "execution_count": 12,
   "metadata": {},
   "outputs": [],
   "source": [
    "# A -> n x m matrix, b -> 1 x m matrix\n",
    "def backward_substitution(A, b):\n",
    "    x = []\n",
    "    rows, columns = A.shape\n",
    "    A = A[::-1, ::-1]\n",
    "    b = b[::-1]\n",
    "    for i in range(rows):\n",
    "        x.append((b[i] - sum(A[i, :i]))/A[i,i])\n",
    "        A[:,i] = A[:, i]*x[i]\n",
    "        \n",
    "        \n",
    "    return x[::-1]\n"
   ]
  },
  {
   "cell_type": "code",
   "execution_count": 315,
   "metadata": {},
   "outputs": [],
   "source": [
    "def gauss(A, b, partial_pivoting=True, scaled=True):\n",
    "    A, b = forward_elimination(A, b, partial_pivoting, scaled)\n",
    "    if type(A) is str:\n",
    "        print(A)\n",
    "        return [0]\n",
    "    return backward_substitution(A, b)"
   ]
  },
  {
   "cell_type": "markdown",
   "metadata": {},
   "source": [
    "No Pivoting"
   ]
  },
  {
   "cell_type": "code",
   "execution_count": 306,
   "metadata": {},
   "outputs": [
    {
     "name": "stdout",
     "output_type": "stream",
     "text": [
      "Gaussian No Pivoting(ex 4): \n",
      " \n",
      "Estimated:\n",
      " \n",
      "[1.0000000000001614, 1.0, 0.9999999999999687]\n",
      " \n",
      "Actual:\n",
      " \n",
      "[1 1 1]\n",
      " \n"
     ]
    }
   ],
   "source": [
    "A, b, x = ex_4()\n",
    "\n",
    "p_x = gauss(A, b, partial_pivoting=False, scaled=False)\n",
    "p(\"Gaussian No Pivoting(ex 4): \", \"Estimated:\", p_x, \"Actual:\", x)"
   ]
  },
  {
   "cell_type": "markdown",
   "metadata": {},
   "source": [
    "Partial Pivoting"
   ]
  },
  {
   "cell_type": "code",
   "execution_count": 307,
   "metadata": {},
   "outputs": [
    {
     "name": "stdout",
     "output_type": "stream",
     "text": [
      "Gaussian Elimination Partial Pivoting(ex 4): \n",
      " \n",
      "Estimated:\n",
      " \n",
      "[1.0000000000001614, 1.0, 1.0000000000000264]\n",
      " \n",
      "Actual:\n",
      " \n",
      "[1 1 1]\n",
      " \n"
     ]
    }
   ],
   "source": [
    "A, b, x = ex_4()\n",
    "p_x = gauss(A, b, scaled=False)\n",
    "\n",
    "p(\"Gaussian Elimination Partial Pivoting(ex 4): \", \"Estimated:\", p_x, \"Actual:\", x)"
   ]
  },
  {
   "cell_type": "markdown",
   "metadata": {},
   "source": [
    "Scaled Partial Pivoting"
   ]
  },
  {
   "cell_type": "code",
   "execution_count": 308,
   "metadata": {},
   "outputs": [
    {
     "name": "stdout",
     "output_type": "stream",
     "text": [
      "Gaussian Elimination with Scaled Partial Pivoting(ex 4): \n",
      " \n",
      "Estimated:\n",
      " \n",
      "[1.0000000000000002, 1.0, 0.9999999999999999]\n",
      " \n",
      "Actual:\n",
      " \n",
      "[1 1 1]\n",
      " \n"
     ]
    }
   ],
   "source": [
    "A, b, x = ex_4()\n",
    "p_x = gauss(A, b)\n",
    "\n",
    "p(\"Gaussian Elimination with Scaled Partial Pivoting(ex 4): \", \"Estimated:\", p_x, \"Actual:\", x)"
   ]
  },
  {
   "cell_type": "markdown",
   "metadata": {},
   "source": [
    "# Jacobi Iterative Method"
   ]
  },
  {
   "cell_type": "code",
   "execution_count": 17,
   "metadata": {},
   "outputs": [],
   "source": [
    "def jacobi_iterative(A, b, num_iterations = -1):\n",
    "    D = np.diagflat(np.diag(A))\n",
    "    R = A - D\n",
    "    L = np.tril(R)\n",
    "    U = np.triu(R)\n",
    "    inverse_D = inv(D)\n",
    "    \n",
    "    converg_thresh = .001\n",
    "    error = np.inf\n",
    "    prev_x = np.zeros(b.shape)\n",
    "    iterations = [prev_x]\n",
    "    i = 0\n",
    "    \n",
    "    while i < num_iterations if num_iterations > 0 else error > converg_thresh:\n",
    "        x = inverse_D @ (b - (R @ prev_x))\n",
    "        iterations.append(x)\n",
    "        error = np.linalg.norm(x - prev_x) / np.linalg.norm(x)\n",
    "        prev_x = x\n",
    "        i += 1\n",
    "    \n",
    "    return x, iterations"
   ]
  },
  {
   "cell_type": "code",
   "execution_count": 227,
   "metadata": {},
   "outputs": [
    {
     "name": "stdout",
     "output_type": "stream",
     "text": [
      "[[ 4.  3.  0.]\n",
      " [ 3.  4. -1.]\n",
      " [ 0. -1.  4.]]\n",
      "Estimation:\n",
      " \n",
      "[ 3.0016263   4.00189735 -5.0005421 ]\n",
      " \n",
      "x:\n",
      " \n",
      "[ 3  4 -5]\n",
      " \n"
     ]
    }
   ],
   "source": [
    "A, b, x = ex(3)\n",
    "print(A)\n",
    "p(\"Estimation:\", jacobi_iterative(A,b)[0], \"x:\", x)"
   ]
  },
  {
   "cell_type": "code",
   "execution_count": 228,
   "metadata": {},
   "outputs": [
    {
     "name": "stdout",
     "output_type": "stream",
     "text": [
      "Example 1 (11 iterations)\n",
      " \n",
      "[[ 8.1240384 ]\n",
      " [10.64570219]\n",
      " [10.04957891]\n",
      " [10.06449904]\n",
      " [10.15284989]\n",
      " [10.12694232]\n",
      " [10.14361475]\n",
      " [10.14400361]\n",
      " [10.1451485 ]\n",
      " [10.14607355]\n",
      " [10.14622943]]\n",
      " \n",
      "Example 2 (52 iterations)\n",
      " \n",
      "[7.88997972e+00 3.04665788e+00 5.87247880e+00 2.05913853e+00\n",
      " 4.29186440e+00 1.38021813e+00 3.14011304e+00 9.17655829e-01\n",
      " 2.30102584e+00 6.04615448e-01 1.68882905e+00 3.94501787e-01\n",
      " 1.24147335e+00 2.55011341e-01 9.14044441e-01 1.63841751e-01\n",
      " 6.73992487e-01 1.05657696e-01 4.97698399e-01 6.98908582e-02\n",
      " 3.68000656e-01 4.90485066e-02 2.72412385e-01 3.74832089e-02\n",
      " 2.01834787e-01 3.09463400e-02 1.49627798e-01 2.67185436e-02\n",
      " 1.10938040e-01 2.34438237e-02 8.22123012e-02 2.05946992e-02\n",
      " 6.08448732e-02 1.80164710e-02 4.49216170e-02 1.56857803e-02\n",
      " 3.30339692e-02 1.36104229e-02 2.41436021e-02 1.17951634e-02\n",
      " 1.74838202e-02 1.02338245e-02 1.24876591e-02 8.91043736e-03\n",
      " 8.73549092e-03 7.80267470e-03 5.91710247e-03 6.88515998e-03\n",
      " 3.80525663e-03 6.13197520e-03 2.24167405e-03 5.51832531e-03]\n",
      " \n",
      "Example 3 (34 iterations)\n",
      " \n",
      "[7.07106781e+00 4.71699057e+00 3.72910847e+00 2.94811910e+00\n",
      " 2.33069280e+00 1.84257444e+00 1.45668300e+00 1.15160902e+00\n",
      " 9.10426873e-01 7.19755641e-01 5.69016796e-01 4.49847275e-01\n",
      " 3.55635497e-01 2.81154547e-01 2.22272186e-01 1.75721592e-01\n",
      " 1.38920116e-01 1.09825995e-01 8.68250726e-02 6.86412468e-02\n",
      " 5.42656704e-02 4.29007793e-02 3.39160440e-02 2.68129871e-02\n",
      " 2.11975275e-02 1.67581169e-02 1.32484547e-02 1.04738231e-02\n",
      " 8.28028418e-03 6.54613942e-03 5.17517761e-03 4.09133714e-03\n",
      " 3.23448601e-03 2.55708571e-03]\n",
      " \n",
      "Example 4 (108 iterations)\n",
      " \n",
      "[1.73205081e+000 4.77337917e+003 5.59792926e+003 3.02908356e+006\n",
      " 1.45606439e+007 1.92920161e+009 1.68582944e+010 1.25960140e+012\n",
      " 1.55797759e+013 8.41347226e+014 1.30777931e+016 5.73022798e+017\n",
      " 1.04306785e+019 3.96568138e+020 8.07071382e+021 2.77968321e+023\n",
      " 6.12584760e+024 1.96772504e+026 4.59112684e+027 1.40345131e+029\n",
      " 3.41153198e+030 1.00664181e+032 2.52008427e+033 7.25041553e+034\n",
      " 1.85392647e+036 5.23817584e+037 1.35991737e+039 3.79286338e+040\n",
      " 9.95504111e+041 2.75079916e+043 7.27682199e+044 1.99737981e+046\n",
      " 5.31361731e+047 1.45154613e+049 3.87719264e+050 1.05552046e+052\n",
      " 2.82757839e+053 7.67880698e+054 2.06132942e+056 5.58802655e+057\n",
      " 1.50231944e+059 4.06744900e+060 1.09469387e+062 2.96112594e+063\n",
      " 7.97558421e+064 2.15597006e+066 5.81017039e+067 1.56987569e+069\n",
      " 4.23237419e+070 1.14317877e+072 3.08288181e+073 8.32495616e+074\n",
      " 2.24550301e+076 6.06266182e+077 1.63553140e+079 4.41524171e+080\n",
      " 1.19123067e+082 3.21553044e+083 8.67614713e+084 2.34183230e+086\n",
      " 6.31907765e+087 1.70554257e+089 4.60232643e+090 1.24214395e+092\n",
      " 3.35196095e+093 9.04655339e+094 2.44128739e+096 6.58863892e+097\n",
      " 1.77802447e+099 4.79854113e+100 1.29495820e+102 3.49480882e+103\n",
      " 9.43133522e+104 2.54529497e+106 6.86894748e+107 1.85375856e+109\n",
      " 5.00272822e+110 1.35010788e+112 3.64353888e+113 9.83295289e+114\n",
      " 2.65362624e+116 7.16142711e+117 1.93266235e+119 5.21573223e+120\n",
      " 1.40757693e+122 3.79866562e+123 1.02515193e+125 2.76660332e+126\n",
      " 7.46628030e+127 2.01494296e+129 5.43776351e+130 1.46750180e+132\n",
      " 3.96037509e+133 1.06879533e+135 2.88437890e+136 7.78413692e+137\n",
      " 2.10072057e+139 5.66926024e+140 1.52997473e+142 4.12897570e+143\n",
      " 1.11429511e+145 3.00717198e+146 8.11551686e+147 2.19015175e+149\n",
      " 5.91060780e+150 1.59510822e+152 4.30475162e+153             inf]\n",
      " \n"
     ]
    },
    {
     "name": "stderr",
     "output_type": "stream",
     "text": [
      "/usr/local/Cellar/python3/3.5.0/Frameworks/Python.framework/Versions/3.5/lib/python3.5/site-packages/ipykernel_launcher.py:17: RuntimeWarning: invalid value encountered in double_scalars\n",
      "/usr/local/Cellar/python3/3.5.0/Frameworks/Python.framework/Versions/3.5/lib/python3.5/site-packages/numpy/linalg/linalg.py:2286: RuntimeWarning: overflow encountered in multiply\n",
      "  s = (x.conj() * x).real\n"
     ]
    }
   ],
   "source": [
    "iters = []\n",
    "for i in range(1, 5):\n",
    "    A, b, x = ex(i)\n",
    "    e_x, ite = jacobi_iterative(A, b)\n",
    "    p(\"Example {} ({} iterations)\".format(i, len(ite)), np.linalg.norm(x - ite, axis=1))"
   ]
  },
  {
   "cell_type": "markdown",
   "metadata": {},
   "source": [
    "# Gauss-Seidel"
   ]
  },
  {
   "cell_type": "code",
   "execution_count": 20,
   "metadata": {},
   "outputs": [],
   "source": [
    "def gauss_seidel(A, b, num_iterations = -1):\n",
    "    L = np.tril(A)\n",
    "    U = A - L\n",
    "    x0 = np.random.random(b.shape)\n",
    "    inv_L = inv(L) \n",
    "    \n",
    "    converg_thresh = .001\n",
    "    error = np.inf\n",
    "    prev_x = np.zeros(b.shape)\n",
    "    iterations = [prev_x]\n",
    "    i = 0\n",
    "    while i < num_iterations if num_iterations > 0 else error > converg_thresh:\n",
    "        x = inv_L @ (b - (U @ prev_x))\n",
    "        iterations.append(x)\n",
    "        error = np.linalg.norm(x - prev_x) / np.linalg.norm(x)\n",
    "        prev_x = x\n",
    "        i += 1\n",
    "    \n",
    "    \n",
    "    return x, iterations"
   ]
  },
  {
   "cell_type": "code",
   "execution_count": 319,
   "metadata": {},
   "outputs": [
    {
     "name": "stdout",
     "output_type": "stream",
     "text": [
      "Gauss-Seidel on Example 3\n",
      " \n",
      "Estimation:\n",
      " \n",
      "[ 3.0083819   3.99301508 -5.00174623]\n",
      " \n",
      "x:\n",
      " \n",
      "[ 3  4 -5]\n",
      " \n"
     ]
    }
   ],
   "source": [
    "# slide 85/86\n",
    "A, b, x = ex_3()\n",
    "\n",
    "p(\"Gauss-Seidel on Example 3\", \"Estimation:\", gauss_seidel(A, b)[0], \"x:\", x)"
   ]
  },
  {
   "cell_type": "code",
   "execution_count": 225,
   "metadata": {},
   "outputs": [
    {
     "name": "stdout",
     "output_type": "stream",
     "text": [
      "Example 1 (7 iterations)\n",
      " \n",
      "[[ 8.1240384 ]\n",
      " [ 9.76174216]\n",
      " [10.10917212]\n",
      " [10.13363425]\n",
      " [10.14364943]\n",
      " [10.14584125]\n",
      " [10.14638666]]\n",
      " \n",
      "Example 2 (17 iterations)\n",
      " \n",
      "[7.88997972 2.88416589 2.06947307 1.47120086 1.0455911  0.74284941\n",
      " 0.52750738 0.37433335 0.26537979 0.1878805  0.13275483 0.09354365\n",
      " 0.06565255 0.04581352 0.031702   0.02166454 0.01452508]\n",
      " \n",
      "Example 3 (13 iterations)\n",
      " \n",
      "[7.07106781 3.17214439 0.98870575 0.61794109 0.38621318 0.24138324\n",
      " 0.15086453 0.09429033 0.05893146 0.03683216 0.0230201  0.01438756\n",
      " 0.00899223]\n",
      " \n",
      "Example 4 (56 iterations)\n",
      " \n",
      "[1.73205081e+000 5.41318206e+003 3.42772853e+006 2.16389762e+009\n",
      " 1.36602472e+012 8.62343620e+014 5.44379986e+017 3.43656011e+020\n",
      " 2.16943049e+023 1.36951734e+026 8.64548438e+028 5.45771843e+031\n",
      " 3.44534662e+034 2.17497724e+037 1.37301889e+040 8.66758894e+042\n",
      " 5.47167258e+045 3.45415560e+048 2.18053817e+051 1.37652939e+054\n",
      " 8.68975001e+056 5.48566242e+059 3.46298710e+062 2.18611331e+065\n",
      " 1.38004886e+068 8.71196774e+070 5.49968802e+073 3.47184117e+076\n",
      " 2.19170271e+079 1.38357734e+082 8.73424228e+084 5.51374948e+087\n",
      " 3.48071789e+090 2.19730640e+093 1.38711483e+096 8.75657377e+098\n",
      " 5.52784690e+101 3.48961730e+104 2.20292442e+107 1.39066137e+110\n",
      " 8.77896236e+112 5.54198035e+115 3.49853946e+118 2.20855680e+121\n",
      " 1.39421698e+124 8.80140818e+126 5.55614995e+129 3.50748444e+132\n",
      " 2.21420358e+135 1.39778168e+138 8.82391140e+140 5.57035577e+143\n",
      " 3.51645229e+146 2.21986480e+149 1.40135549e+152             inf]\n",
      " \n"
     ]
    },
    {
     "name": "stderr",
     "output_type": "stream",
     "text": [
      "/usr/local/Cellar/python3/3.5.0/Frameworks/Python.framework/Versions/3.5/lib/python3.5/site-packages/ipykernel_launcher.py:15: RuntimeWarning: invalid value encountered in double_scalars\n",
      "  from ipykernel import kernelapp as app\n",
      "/usr/local/Cellar/python3/3.5.0/Frameworks/Python.framework/Versions/3.5/lib/python3.5/site-packages/numpy/linalg/linalg.py:2286: RuntimeWarning: overflow encountered in multiply\n",
      "  s = (x.conj() * x).real\n"
     ]
    }
   ],
   "source": [
    "iters = []\n",
    "for i in range(1, 5):\n",
    "    A, b, x = ex(i)\n",
    "    e_x, ite = gauss_seidel(A, b)\n",
    "    p(\"Example {} ({} iterations)\".format(i, len(ite)), np.linalg.norm(x - ite, axis=1))"
   ]
  },
  {
   "cell_type": "markdown",
   "metadata": {},
   "source": [
    "# Successive Over-Relaxation"
   ]
  },
  {
   "cell_type": "code",
   "execution_count": 163,
   "metadata": {},
   "outputs": [],
   "source": [
    "def successive_over_relax(A, b, num_iterations = -1):\n",
    "    D = np.diagflat(np.diag(A))\n",
    "    L = np.tril(A, -1)\n",
    "    U = np.triu(A, 1)\n",
    "    \n",
    "    converg_thresh = .001\n",
    "    \n",
    "    error = np.inf\n",
    "    w = 1.2\n",
    "    i = 0\n",
    "    prev_x = np.ones(b.shape)\n",
    "    iterations = [prev_x]\n",
    "    while i < num_iterations if num_iterations > 0 else error > converg_thresh:\n",
    "        # https://en.wikipedia.org/wiki/Successive_over-relaxation\n",
    "        x = inv(D + (w * L)) @ ((w * b) - (((w * U) + ((w-1)*D)) @ prev_x))\n",
    "        error = np.linalg.norm(x - prev_x) / np.linalg.norm(x)\n",
    "        prev_x = x\n",
    "        iterations.append(x)\n",
    "        i += 1\n",
    "    \n",
    "    return x, iterations"
   ]
  },
  {
   "cell_type": "code",
   "execution_count": 269,
   "metadata": {},
   "outputs": [
    {
     "name": "stdout",
     "output_type": "stream",
     "text": [
      "Estimation:\n",
      " \n",
      "[ 7.85413921  0.42273772 -0.07369662 -0.54005107  0.01062286]\n",
      " \n",
      "x:\n",
      " \n",
      "[ 7.85971307  0.42292641 -0.07359224 -0.54064302  0.01062616]\n",
      " \n",
      "Iterations:\n",
      " \n",
      "14\n",
      " \n"
     ]
    }
   ],
   "source": [
    "A, b, x = ex(2)\n",
    "e_x, ite = successive_over_relax(A, b)\n",
    "p(\"Estimation:\", e_x, \"x:\", x, \"Iterations:\", len(ite))"
   ]
  },
  {
   "cell_type": "code",
   "execution_count": 218,
   "metadata": {},
   "outputs": [
    {
     "name": "stdout",
     "output_type": "stream",
     "text": [
      "Example 1 (9 iterations)\n",
      " \n",
      "[[ 8.36660027]\n",
      " [10.03922194]\n",
      " [10.3274795 ]\n",
      " [10.11788997]\n",
      " [10.15000176]\n",
      " [10.14451674]\n",
      " [10.14758469]\n",
      " [10.14621958]\n",
      " [10.14666388]]\n",
      " \n",
      "Example 2 (14 iterations)\n",
      " \n",
      "[7.20372953e+00 1.47204960e+01 5.41349828e+00 3.58194025e+00\n",
      " 1.84439341e+00 1.03689096e+00 5.64848546e-01 3.10028569e-01\n",
      " 1.69067344e-01 9.16389642e-02 4.90300759e-02 2.55926018e-02\n",
      " 1.26999750e-02 5.60935586e-03]\n",
      " \n",
      "Example 3 (8 iterations)\n",
      " \n",
      "[7.00000000e+00 3.39066203e+00 3.68807280e-01 1.34873506e-01\n",
      " 1.25405034e-02 9.03503676e-03 1.71029620e-03 1.01802830e-03]\n",
      " \n",
      "Example 4 (2 iterations)\n",
      " \n",
      "[0.00000000e+00 4.37524076e-13]\n",
      " \n"
     ]
    }
   ],
   "source": [
    "iters = []\n",
    "for i in range(1, 5):\n",
    "    A, b, x = ex(i)\n",
    "    e_x, ite = successive_over_relax(A, b)\n",
    "    p(\"Example {} ({} iterations)\".format(i, len(ite)), np.linalg.norm(x - ite, axis=1))"
   ]
  },
  {
   "cell_type": "markdown",
   "metadata": {},
   "source": [
    "# Iterative Refinement  "
   ]
  },
  {
   "cell_type": "code",
   "execution_count": 316,
   "metadata": {},
   "outputs": [],
   "source": [
    "def iterative_refinement(A, b, method, num_iterations=2):\n",
    "    x = np.array(method(A,b)) \n",
    "    for k in range(num_iterations):\n",
    "        r = b - A @ x\n",
    "        y = np.array(method(A, r))\n",
    "        x = x + y\n",
    "    \n",
    "    return x"
   ]
  },
  {
   "cell_type": "code",
   "execution_count": 317,
   "metadata": {},
   "outputs": [
    {
     "name": "stdout",
     "output_type": "stream",
     "text": [
      "Iterative Refinement of Gaussian Elimination(ex 4): \n",
      " \n",
      "Estimated:\n",
      " \n",
      "[1. 1. 1.]\n",
      " \n",
      "Actual\n",
      " \n",
      "[1 1 1]\n",
      " \n"
     ]
    }
   ],
   "source": [
    "A, b, x = ex_4()\n",
    "x_ref = iterative_refinement(A, b, gauss)\n",
    "\n",
    "p(\"Iterative Refinement of Gaussian Elimination(ex 4): \", \"Estimated:\", x_ref, \"Actual\", x)"
   ]
  },
  {
   "cell_type": "markdown",
   "metadata": {},
   "source": [
    "# Conditioned Conjugate Gradient"
   ]
  },
  {
   "cell_type": "code",
   "execution_count": 256,
   "metadata": {},
   "outputs": [],
   "source": [
    "def conjugate_gradient(A, b, num_iterations = -1):\n",
    "    x = np.ones(b.shape)\n",
    "    iterations = [x]\n",
    "    prev_r = b - (A @ x)\n",
    "    v = prev_r\n",
    "    i = 0\n",
    "    while i < num_iterations if num_iterations > 0 else not np.allclose(prev_r, np.zeros(prev_r.shape), atol=.001):\n",
    "        Av = A @ v\n",
    "        \n",
    "        t = (prev_r.T @ prev_r) / (v.T @ Av)\n",
    "        x = x + (t * v)\n",
    "        iterations.append(x)\n",
    "        \n",
    "        r = prev_r - (t * Av)\n",
    "        s = (r.T @ r) / (prev_r.T @ prev_r)\n",
    "        v = r + (s * v)\n",
    "        \n",
    "        prev_r = r\n",
    "        \n",
    "        i += 1\n",
    "    \n",
    "    return x, iterations"
   ]
  },
  {
   "cell_type": "code",
   "execution_count": 257,
   "metadata": {},
   "outputs": [
    {
     "name": "stdout",
     "output_type": "stream",
     "text": [
      "Conjugate Gradient on example 3\n",
      " \n",
      "Estimation:\n",
      " \n",
      "[ 7.85554809  0.42285861 -0.07368613 -0.54010434  0.01062334]\n",
      " \n",
      "x:\n",
      " \n",
      "[ 7.85971307  0.42292641 -0.07359224 -0.54064302  0.01062616]\n",
      " \n"
     ]
    }
   ],
   "source": [
    "A, b, x = ex_3()\n",
    "\n",
    "p(\"Conjugate Gradient on example 3\", \"Estimation:\", conjugate_gradient(A, b)[0], \"x:\", x)"
   ]
  },
  {
   "cell_type": "code",
   "execution_count": 263,
   "metadata": {},
   "outputs": [],
   "source": [
    "def cc_gradient(A, b, num_iterations = -1):\n",
    "    C = np.diagflat(np.diag(A))\n",
    "    x = np.ones(b.shape)\n",
    "    r = b - (A @ x)\n",
    "    iterations = [x]\n",
    "    prev_w = inv(C) @ r\n",
    "    v = inv(C.T) @ prev_w\n",
    "    i = 0\n",
    "    while i < num_iterations if num_iterations > 0 else not np.allclose(r, np.zeros(r.shape), atol=.001):\n",
    "        Av = A @ v\n",
    "        \n",
    "        t = (prev_w.T @ prev_w) / (v.T @ Av)\n",
    "        x = x + (t * v)\n",
    "        iterations.append(x)\n",
    "        \n",
    "        r = r - (t * Av)\n",
    "        \n",
    "        w = inv(C) @ r\n",
    "        s = (w.T @ w) / (prev_w.T @ prev_w)\n",
    "        v = (inv(C.T) @ w) + (s * v)\n",
    "        \n",
    "        prev_w = w\n",
    "        \n",
    "        i += 1\n",
    "    \n",
    "    return x, iterations"
   ]
  },
  {
   "cell_type": "code",
   "execution_count": 264,
   "metadata": {},
   "outputs": [
    {
     "name": "stdout",
     "output_type": "stream",
     "text": [
      "Preconditioned Conjugate Gradient on example 3\n",
      " \n",
      "Estimation:\n",
      " \n",
      "[ 7.86266536  0.42288283 -0.07382331 -0.54099818  0.01062867]\n",
      " \n",
      "x:\n",
      " \n",
      "[ 7.85971307  0.42292641 -0.07359224 -0.54064302  0.01062616]\n",
      " \n",
      "Iterations:\n",
      " \n",
      "21\n",
      " \n"
     ]
    }
   ],
   "source": [
    "A, b, x = ex(2)\n",
    "e_x, ite = cc_gradient(A, b)\n",
    "p(\"Estimation:\", e_x, \"x:\", x, \"Iterations:\", len(ite))"
   ]
  },
  {
   "cell_type": "code",
   "execution_count": 265,
   "metadata": {},
   "outputs": [
    {
     "name": "stdout",
     "output_type": "stream",
     "text": [
      "Example 1 (21 iterations)\n",
      " \n",
      "[[ 8.36660027]\n",
      " [ 9.94189001]\n",
      " [10.2315165 ]\n",
      " [10.21837763]\n",
      " [10.16576037]\n",
      " [10.13968936]\n",
      " [10.13638512]\n",
      " [10.14889979]\n",
      " [10.15850094]\n",
      " [10.15853842]\n",
      " [10.15206169]\n",
      " [10.14244141]\n",
      " [10.13369127]\n",
      " [10.13020187]\n",
      " [10.13252306]\n",
      " [10.13800881]\n",
      " [10.14442696]\n",
      " [10.1506112 ]\n",
      " [10.15572336]\n",
      " [10.15897825]\n",
      " [10.15993801]]\n",
      " \n",
      "Example 2 (21 iterations)\n",
      " \n",
      "[7.20372953e+00 1.36968401e+01 2.78003687e+01 3.20093999e+01\n",
      " 9.20607248e+00 1.63834774e+01 1.46872599e-01 7.23742372e-02\n",
      " 1.00705297e-01 1.48617494e-01 3.03791568e-02 2.44738992e-02\n",
      " 2.78925411e-02 5.14452224e-03 2.56471767e-03 1.82381210e-03\n",
      " 2.23143075e-03 2.97325277e-03 3.12180775e-03 2.94862846e-03\n",
      " 2.98286092e-03]\n",
      " \n",
      "Example 3 (21 iterations)\n",
      " \n",
      "[7.00000000e+00 2.02998221e+00 3.92139025e-01 2.51214793e-15\n",
      " 2.17558393e-15 2.17558393e-15 2.17558393e-15 2.17558393e-15\n",
      " 2.17558393e-15 2.17558393e-15 2.17558393e-15 2.17558393e-15\n",
      " 2.17558393e-15 2.17558393e-15 2.17558393e-15 2.17558393e-15\n",
      " 2.17558393e-15 2.17558393e-15 2.17558393e-15 2.17558393e-15\n",
      " 2.17558393e-15]\n",
      " \n",
      "Example 4 (21 iterations)\n",
      " \n",
      "[0.00000000e+00 2.22044605e-16 1.51700954e-12 5.41200549e-09\n",
      " 1.28690989e-05 2.28216069e-02 7.40604708e-01 5.08767092e-02\n",
      " 1.74521132e-03 5.63745373e-05 1.83276294e-06 5.98203833e-08\n",
      " 1.96034896e-09 6.44989970e-11 2.13085200e-12 7.09436856e-14\n",
      " 2.68297517e-15 5.43895982e-16 4.57756680e-16 4.57756680e-16\n",
      " 4.57756680e-16]\n",
      " \n"
     ]
    }
   ],
   "source": [
    "iters = []\n",
    "for i in range(1, 5):\n",
    "    A, b, x = ex(i)\n",
    "    e_x, ite = cc_gradient(A, b, 20)\n",
    "    p(\"Example {} ({} iterations)\".format(i, len(ite)), np.linalg.norm(x - ite, axis=1))"
   ]
  },
  {
   "cell_type": "code",
   "execution_count": 344,
   "metadata": {},
   "outputs": [],
   "source": [
    "def run_test(example_num, generate_plot, methods, iterations=-1, logy=False):\n",
    "    if not isinstance(methods, list):\n",
    "        raise Exception(\"parameter `methods` must be a list of method declarations.\")\n",
    "        \n",
    "    A, b, x = ex(example_num)\n",
    "    errors = []\n",
    "    max_err_length = -np.inf\n",
    "    for method in methods:\n",
    "        if iterations > 0:\n",
    "            e_x, iter_vals = method(A, b, iterations)\n",
    "        else:\n",
    "            e_x, iter_vals = method(A, b)\n",
    "        error = x - np.array(iter_vals)\n",
    "        errors_string = \"\\n\".join([\"i = {} -> norm(X - estimate) = {}\".format(i, str(s)) for i, s in enumerate(np.linalg.norm(error, axis=1).tolist())])\n",
    "        #p(\"{} errors for each iteration:\\n{}\".format(method.__name__, errors_string))\n",
    "        errors.append(error)\n",
    "\n",
    "    if generate_plot:\n",
    "        m_names = []\n",
    "        plot = plt.figure(figsize=(12, 7))\n",
    "        \n",
    "        for i, e in enumerate(errors):\n",
    "            method_name = \" \".join(methods[i].__name__.split(\"_\"))\n",
    "            y =  np.linalg.norm(e, axis=1)\n",
    "            if logy:\n",
    "                plt.semilogy(y, label=method_name)\n",
    "            else:\n",
    "                plt.plot(y, label=method_name)\n",
    "            m_names.append(method_name)\n",
    "            \n",
    "        plt.legend(prop={\"size\": 13})\n",
    "        plt.ylabel(\"norm\")\n",
    "        plt.xlabel(\"iteration\")\n",
    "        plt.title(\"Example {}\".format(example_num))\n",
    "        plot.savefig(\"{}.pdf\".format(example_num))\n",
    "        plt.show()\n",
    "    \n",
    "    return errors"
   ]
  },
  {
   "cell_type": "code",
   "execution_count": 345,
   "metadata": {},
   "outputs": [
    {
     "data": {
      "image/png": "[encoded data removed]",
      "text/plain": [
       "<matplotlib.figure.Figure at 0x10595f4e0>"
      ]
     },
     "metadata": {},
     "output_type": "display_data"
    }
   ],
   "source": [
    "r = run_test(1, True, [jacobi_iterative, cc_gradient, gauss_seidel, successive_over_relax], 30)"
   ]
  },
  {
   "cell_type": "code",
   "execution_count": 346,
   "metadata": {},
   "outputs": [
    {
     "data": {
      "image/png": "[encoded data removed]",
      "text/plain": [
       "<matplotlib.figure.Figure at 0x106331b38>"
      ]
     },
     "metadata": {},
     "output_type": "display_data"
    }
   ],
   "source": [
    "r = run_test(2, True, [jacobi_iterative, cc_gradient, gauss_seidel, successive_over_relax], 10)"
   ]
  },
  {
   "cell_type": "code",
   "execution_count": 347,
   "metadata": {},
   "outputs": [
    {
     "data": {
      "image/png": "[encoded data removed]",
      "text/plain": [
       "<matplotlib.figure.Figure at 0x106847828>"
      ]
     },
     "metadata": {},
     "output_type": "display_data"
    }
   ],
   "source": [
    "r = run_test(3, True, [jacobi_iterative, cc_gradient, gauss_seidel, successive_over_relax], 9)"
   ]
  },
  {
   "cell_type": "code",
   "execution_count": 348,
   "metadata": {},
   "outputs": [
    {
     "data": {
      "image/png": "[encoded data removed]",
      "text/plain": [
       "<matplotlib.figure.Figure at 0x1065db240>"
      ]
     },
     "metadata": {},
     "output_type": "display_data"
    }
   ],
   "source": [
    "r = run_test(4, True, [jacobi_iterative, cc_gradient, gauss_seidel, successive_over_relax], 30, True)"
   ]
  }
 ],
 "metadata": {
  "kernelspec": {
   "display_name": "Python 3",
   "language": "python",
   "name": "python3"
  },
  "language_info": {
   "codemirror_mode": {
    "name": "ipython",
    "version": 3
   },
   "file_extension": ".py",
   "mimetype": "text/x-python",
   "name": "python",
   "nbconvert_exporter": "python",
   "pygments_lexer": "ipython3",
   "version": "3.5.0"
  }
 },
 "nbformat": 4,
 "nbformat_minor": 2
}
