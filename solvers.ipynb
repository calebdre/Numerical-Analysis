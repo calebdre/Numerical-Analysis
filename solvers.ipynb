{
 "cells": [
  {
   "cell_type": "code",
   "execution_count": 6,
   "metadata": {},
   "outputs": [],
   "source": [
    "from IPython.core.debugger import set_trace\n",
    "import unittest\n",
    "tc = unittest.TestCase('__init__')\n",
    "\n",
    "import numpy as np\n",
    "from numpy.linalg import inv\n",
    "# mathjax docs: https://math.meta.stackexchange.com/questions/5020/mathjax-basic-tutorial-and-quick-reference"
   ]
  },
  {
   "cell_type": "code",
   "execution_count": 7,
   "metadata": {},
   "outputs": [],
   "source": [
    "def p(*args):\n",
    "    for arg in args:\n",
    "        print(arg)\n",
    "        print(\" \")"
   ]
  },
  {
   "cell_type": "markdown",
   "metadata": {},
   "source": [
    "# The Problem\n",
    "\n",
    "Given $A \\in \\mathbb{R}^{mxn} \\text{ and } b \\in \\mathbb{R}^n$ in the equation:\n",
    "\n",
    "$Ax = b$\n",
    "  \n",
    "We want to solve for $x$"
   ]
  },
  {
   "cell_type": "code",
   "execution_count": 8,
   "metadata": {},
   "outputs": [],
   "source": [
    "def ex_1():\n",
    "    # example 6.1.2\n",
    "    return (np.array([\n",
    "        [4, -1, 2 ,-1],\n",
    "        [2, 6, 3, -3],\n",
    "        [1, 1, 5, 0],\n",
    "        [1, -1, 4, 7]\n",
    "    ], dtype=np.float64), \n",
    "    np.array([[-8, -20, -2, 4]], dtype=np.float64).T,\n",
    "    np.array([[2, 2, 3, -7]], dtype=np.float64).T)\n",
    "\n",
    "\n",
    "def ex_2():\n",
    "    # slide 115\n",
    "    return (\n",
    "        np.array([\n",
    "            [.2, .1, 1, 1, 0],\n",
    "            [.1, 4, -1, 1, -1],\n",
    "            [1, -1, 60, 0, -1],\n",
    "            [1, 1, 0 , 8, 4],\n",
    "            [0, -1, -2, 4, 700]            \n",
    "        ]),\n",
    "        np.array([1,2,3,4,5], dtype=np.float64).T,\n",
    "        np.array([7.859713071, 0.4229264082, -.07359223906, -.5406430164, .01062616286], dtype=np.float64).T\n",
    "    )\n",
    "\n",
    "def ex_3():\n",
    "    return (\n",
    "        np.array([\n",
    "            [4, 3, 0],\n",
    "            [3, 4, -1],\n",
    "            [0, -1, 4]\n",
    "        ]),\n",
    "        np.array([24, 30, -24]),\n",
    "        np.array([3, 4, -5])\n",
    "    )\n",
    "\n",
    "def ex_4():\n",
    "    return (\n",
    "        np.array([\n",
    "            [3.3330, 15920, -10.333],\n",
    "            [2.2220, 16.710, 9.6120],\n",
    "            [1.5611, 5.1791, 1.6852]\n",
    "        ]),\n",
    "        np.array([15913, 28.544, 8.4254]),\n",
    "        np.array([1, 1, 1])\n",
    "    )"
   ]
  },
  {
   "cell_type": "code",
   "execution_count": 9,
   "metadata": {},
   "outputs": [],
   "source": [
    "def test_correct_matrix_solution(A, b, x):\n",
    "    return np.array_equal(np.dot(A, x), b)\n",
    "\n",
    "def test_method(method_func):\n",
    "    # example 6.1.2\n",
    "    A = np.array([\n",
    "        [4, 3, 0],\n",
    "        [3, 4, -1],\n",
    "        [0, -1, 4]\n",
    "    ])\n",
    "    b = np.array([24, 30, -24])\n",
    "    x = np.array([3,4,-5]) \n",
    "    \n",
    "    x_est = method_func(A, b)\n",
    "    return np.allclose(x_est, x)\n",
    "    \n",
    "    # random A & b\n",
    "    #A_2 = np.random.random((4,4))\n",
    "    #b_2 = np.random.random((4,1))\n",
    "    #x_2 = method_func(A_2, b_2)\n",
    "    #tc.assertTrue(np.array_equal(np.dot(A_2, x_2), b_2))"
   ]
  },
  {
   "cell_type": "markdown",
   "metadata": {},
   "source": [
    "# Gausse Elimination"
   ]
  },
  {
   "cell_type": "markdown",
   "metadata": {},
   "source": [
    "### 1. No Pivoting:"
   ]
  },
  {
   "cell_type": "code",
   "execution_count": 10,
   "metadata": {},
   "outputs": [],
   "source": [
    "def swap_rows(m, row_index_1, row_index_2):\n",
    "    cpy = m.copy()\n",
    "    cpy[[row_index_1, row_index_2]] = cpy[[row_index_2, row_index_1]]\n",
    "    return cpy\n",
    "\n",
    "def swap_rows_if_needed(m, b, pivot_row, pivot_col):\n",
    "        if m[pivot_row, pivot_col] > 0:\n",
    "            return m, b\n",
    "        \n",
    "        nonzeros = m[pivot_row: m.shape[0], pivot_col].nonzero()\n",
    "        if len(nonzeros[0]) > 0:\n",
    "            next_nonzero_index = nonzeros[0][0] + pivot_row\n",
    "            if next_nonzero_index != pivot_row:\n",
    "                m = swap_rows(m, pivot_row, next_nonzero_index)\n",
    "                b = swap_rows(b, pivot_row, next_nonzero_index)\n",
    "\n",
    "        return m, b\n",
    "\n",
    "def swap_rows_if_needed_test():\n",
    "    A = np.random.random((4,4))\n",
    "    b = np.random.random((4,1))\n",
    "    A[1, 1] = 0\n",
    "    A_real, b_real = swap_rows_if_needed(A,b, 1, 1)\n",
    "    A_expected = swap_rows(A, 1, 2)\n",
    "    b_expected = swap_rows(b, 1, 2)\n",
    "    tc.assertTrue(np.array_equal(A_expected, A_real))\n",
    "    tc.assertTrue(np.array_equal(b_expected, b_real))\n",
    "    \n",
    "    B = np.random.random((4,4))\n",
    "    c = np.random.random((4,1))\n",
    "    B_real, c = swap_rows_if_needed(B, c, 1, 1)\n",
    "    B_expected = B\n",
    "    tc.assertTrue(np.array_equal(B_expected, B_real))\n",
    "    \n",
    "swap_rows_if_needed_test()"
   ]
  },
  {
   "cell_type": "code",
   "execution_count": 11,
   "metadata": {},
   "outputs": [],
   "source": [
    "def forward_elimination(A_input, b_input):\n",
    "    def forward_elimination_recurse(A, b, pivot_index):\n",
    "        pivot_row_index = A.shape[1] - A.shape[0] + pivot_index\n",
    "        A, b = swap_rows_if_needed(A, b, pivot_row_index, pivot_index)\n",
    "        pivot_row = A[pivot_row_index]\n",
    "        \n",
    "        start_row_index = pivot_row_index + 1\n",
    "\n",
    "        for row_i in range(start_row_index, A.shape[0]):\n",
    "            multiplier = np.abs(pivot_row[pivot_index]) *  (A[row_i][pivot_index] / pivot_row[pivot_index])\n",
    "            A[row_i] -= (multiplier * pivot_row)\n",
    "            b[row_i] -= (multiplier * b[pivot_row_index])\n",
    "        \n",
    "        if pivot_index >= A.shape[1]-1:\n",
    "            return A, b\n",
    "        else:\n",
    "            return forward_elimination_recurse(A, b, pivot_index + 1)\n",
    "    \n",
    "    return forward_elimination_recurse(A_input, b_input, 0)"
   ]
  },
  {
   "cell_type": "code",
   "execution_count": 12,
   "metadata": {},
   "outputs": [],
   "source": [
    "# A -> n x m matrix, b -> 1 x m matrix\n",
    "def backward_substitution(A, B):\n",
    "    '''\n",
    "    There are only m variables to solve for in an n x m matrix,\n",
    "    so we can just solve the m x m submatrix. If m > n, we don't\n",
    "    have enough equations to solve the system.\n",
    "\n",
    "    x = output    \n",
    "    n = # of rows\n",
    "    k = # of columns\n",
    "    '''\n",
    "    x = np.zeros((B.shape[0],))\n",
    "    n = A.shape[0]\n",
    "    k = A.shape[1]\n",
    "    \n",
    "    # first iteration \n",
    "    x[k-1] = B[k-1, 0] / A[n-1,k-1]\n",
    "    A[0: n-1,k-1] *= x[k-1]\n",
    "    B[k-1] *= x[k-1]\n",
    "\n",
    "    for i in reversed(range(0, k-1)):\n",
    "        found_variables_sum = np.sum(A[i, i+1:n])\n",
    "        x[i] = (B[i, 0] - found_variables_sum) / A[i, i]\n",
    "        A[:i, i] *= x[i]\n",
    "\n",
    "    if n > k:\n",
    "        A[0: n-k] *= x\n",
    "    \n",
    "    return x[::-1]"
   ]
  },
  {
   "cell_type": "code",
   "execution_count": 13,
   "metadata": {},
   "outputs": [],
   "source": [
    "def gauss_no_pivot(A, b):\n",
    "    A, b = forward_elimination(A, b)\n",
    "    return backward_substitution(A, b)"
   ]
  },
  {
   "cell_type": "code",
   "execution_count": 14,
   "metadata": {},
   "outputs": [
    {
     "name": "stdout",
     "output_type": "stream",
     "text": [
      "[-8.      7.6    -0.55   -7.9375]\n",
      " \n",
      "[[ 2.]\n",
      " [ 2.]\n",
      " [ 3.]\n",
      " [-7.]]\n",
      " \n"
     ]
    }
   ],
   "source": [
    "A, b, x = ex_1()\n",
    "\n",
    "p_x = gauss_no_pivot(A, b)\n",
    "p(p_x, x)"
   ]
  },
  {
   "cell_type": "markdown",
   "metadata": {},
   "source": [
    "### 2. Partial Pivoting"
   ]
  },
  {
   "cell_type": "code",
   "execution_count": 5,
   "metadata": {},
   "outputs": [],
   "source": [
    "def gauss_partial_pivot(A, b):\n",
    "    pass"
   ]
  },
  {
   "cell_type": "markdown",
   "metadata": {},
   "source": [
    "# Jacobi Iterative Method"
   ]
  },
  {
   "cell_type": "code",
   "execution_count": 61,
   "metadata": {},
   "outputs": [],
   "source": [
    "def jacobi_iterative(A, b):\n",
    "    D = np.diagflat(np.diag(A))\n",
    "    R = A - D\n",
    "    L = np.tril(R)\n",
    "    U = np.triu(R)\n",
    "    inverse_D = inv(D)\n",
    "    \n",
    "    converg_thresh = .0000001\n",
    "    error = np.inf\n",
    "    prev_x = np.random.random(b.shape)\n",
    "    \n",
    "    while error > converg_thresh:\n",
    "        x = inverse_D @ (b - (R @ prev_x)) \n",
    "        error = np.linalg.norm(x - prev_x) / np.linalg.norm(x)\n",
    "        prev_x = x\n",
    "    \n",
    "    return x"
   ]
  },
  {
   "cell_type": "code",
   "execution_count": 66,
   "metadata": {},
   "outputs": [
    {
     "name": "stdout",
     "output_type": "stream",
     "text": [
      "Estimation:\n",
      " \n",
      "[ 3.0000002   4.00000021 -5.00000007]\n",
      " \n",
      "x:\n",
      " \n",
      "[ 3  4 -5]\n",
      " \n"
     ]
    }
   ],
   "source": [
    "# slide 85/86\n",
    "A = np.array([\n",
    "    [4, 3, 0],\n",
    "    [3, 4, -1],\n",
    "    [0, -1, 4]\n",
    "])\n",
    "b = np.array([24, 30, -24])\n",
    "x = np.array([3,4,-5])\n",
    "\n",
    "p(\"Estimation:\", jacobi_iterative(A,b), \"x:\", x)"
   ]
  },
  {
   "cell_type": "code",
   "execution_count": 85,
   "metadata": {},
   "outputs": [
    {
     "name": "stdout",
     "output_type": "stream",
     "text": [
      "True\n"
     ]
    }
   ],
   "source": [
    "print(test_method(jacobi_iterative))"
   ]
  },
  {
   "cell_type": "markdown",
   "metadata": {},
   "source": [
    "# Gauss-Seidel"
   ]
  },
  {
   "cell_type": "code",
   "execution_count": 71,
   "metadata": {},
   "outputs": [],
   "source": [
    "def gauss_seidel(A, b):\n",
    "    L = np.tril(A)\n",
    "    U = A - L\n",
    "    x0 = np.random.random(b.shape)\n",
    "    inv_L = inv(L) \n",
    "    \n",
    "    converg_thresh = .0000001\n",
    "    error = np.inf\n",
    "    prev_x = np.random.random(b.shape)\n",
    "    \n",
    "    while error > converg_thresh:\n",
    "        x = inv_L @ (b - (U @ prev_x))\n",
    "        error = np.linalg.norm(x - prev_x) / np.linalg.norm(x)\n",
    "        prev_x = x\n",
    "    \n",
    "    return x"
   ]
  },
  {
   "cell_type": "code",
   "execution_count": 86,
   "metadata": {},
   "outputs": [
    {
     "name": "stdout",
     "output_type": "stream",
     "text": [
      "True\n"
     ]
    }
   ],
   "source": [
    "print(test_method(gauss_seidel))"
   ]
  },
  {
   "cell_type": "markdown",
   "metadata": {},
   "source": [
    "# Successive Over-Relaxation"
   ]
  },
  {
   "cell_type": "code",
   "execution_count": 187,
   "metadata": {},
   "outputs": [],
   "source": [
    "def successive_over_relax(A, b, w):\n",
    "    D = np.diagflat(np.diag(A))\n",
    "    L = np.tril(A, -1)\n",
    "    U = np.triu(A, 1)\n",
    "    \n",
    "    converg_thresh = .00001\n",
    "    \n",
    "    error = np.inf\n",
    "    prev_x = np.ones(b.shape)\n",
    "    while error > converg_thresh:\n",
    "        # https://en.wikipedia.org/wiki/Successive_over-relaxation\n",
    "        x = inv(D + (w * L)) @ ((w * b) - (((w * U) + ((w-1)*D)) @ prev_x))\n",
    "        error = np.linalg.norm(x - prev_x) / np.linalg.norm(x)\n",
    "        prev_x = x\n",
    "    \n",
    "    return x"
   ]
  },
  {
   "cell_type": "code",
   "execution_count": 188,
   "metadata": {},
   "outputs": [
    {
     "name": "stdout",
     "output_type": "stream",
     "text": [
      "Estimation:\n",
      " \n",
      "[ 3.00000448  4.00000547 -5.00001143]\n",
      " \n",
      "x:\n",
      " \n",
      "[ 3  4 -5]\n",
      " \n"
     ]
    }
   ],
   "source": [
    "# slide 85/86\n",
    "A = np.array([\n",
    "    [4, 3, 0],\n",
    "    [3, 4, -1],\n",
    "    [0, -1, 4]\n",
    "])\n",
    "b = np.array([24, 30, -24])\n",
    "x = np.array([3,4,-5])\n",
    "\n",
    "p(\"Estimation:\", successive_over_relax(A, b, 1.5), \"x:\", x)"
   ]
  },
  {
   "cell_type": "markdown",
   "metadata": {},
   "source": [
    "# Iterative Refinement  "
   ]
  },
  {
   "cell_type": "code",
   "execution_count": 189,
   "metadata": {},
   "outputs": [],
   "source": [
    "def iterative_refinement(A, b):\n",
    "    pass"
   ]
  },
  {
   "cell_type": "markdown",
   "metadata": {},
   "source": [
    "# Conditioned Conjugate Gradient"
   ]
  },
  {
   "cell_type": "code",
   "execution_count": 230,
   "metadata": {},
   "outputs": [],
   "source": [
    "def conjugate_gradient(A, b):\n",
    "    x = np.ones(b.shape)\n",
    "    prev_r = b - (A @ x)\n",
    "    v = prev_r\n",
    "    while not np.allclose(prev_r, np.zeros(prev_r.shape)):\n",
    "        Av = A @ v\n",
    "        \n",
    "        t = (prev_r.T @ prev_r) / (v.T @ Av)\n",
    "        x = x + (t * v)\n",
    "        r = prev_r - (t * Av)\n",
    "        s = (r.T @ r) / (prev_r.T @ prev_r)\n",
    "        v = r + (s * v)\n",
    "        \n",
    "        prev_r = r\n",
    "    \n",
    "    return x"
   ]
  },
  {
   "cell_type": "code",
   "execution_count": 231,
   "metadata": {},
   "outputs": [
    {
     "name": "stdout",
     "output_type": "stream",
     "text": [
      "Estimation:\n",
      " \n",
      "[ 3.  4. -5.]\n",
      " \n",
      "x:\n",
      " \n",
      "[ 3  4 -5]\n",
      " \n"
     ]
    }
   ],
   "source": [
    "p(\"Estimation:\", conjugate_gradient(A, b), \"x:\", x)"
   ]
  },
  {
   "cell_type": "code",
   "execution_count": 238,
   "metadata": {},
   "outputs": [],
   "source": [
    "def cc_gradient(C, A, b):\n",
    "    x = np.ones(b.shape)\n",
    "    r = b - (A @ x)\n",
    "    \n",
    "    prev_w = inv(C) @ r\n",
    "    v = inv(C.T) @ prev_w\n",
    "    \n",
    "    while not np.allclose(r, np.zeros(r.shape)):\n",
    "        Av = A @ v\n",
    "        \n",
    "        t = (prev_w.T @ prev_w) / (v.T @ Av)\n",
    "        x = x + (t * v)\n",
    "        r = r - (t * Av)\n",
    "        \n",
    "        w = inv(C) @ r\n",
    "        s = (w.T @ w) / (prev_w.T @ prev_w)\n",
    "        v = (inv(C.T) @ w) + (s * v)\n",
    "        \n",
    "        prev_w = w\n",
    "    \n",
    "    return x"
   ]
  },
  {
   "cell_type": "code",
   "execution_count": 239,
   "metadata": {},
   "outputs": [
    {
     "name": "stdout",
     "output_type": "stream",
     "text": [
      "Estimation:\n",
      " \n",
      "[ 3.  4. -5.]\n",
      " \n",
      "x:\n",
      " \n",
      "[ 3  4 -5]\n",
      " \n"
     ]
    }
   ],
   "source": [
    "p(\"Estimation:\", cc_gradient(np.diagflat(np.diag(A)), A, b), \"x:\", x)"
   ]
  }
 ],
 "metadata": {
  "kernelspec": {
   "display_name": "Python 3",
   "language": "python",
   "name": "python3"
  },
  "language_info": {
   "codemirror_mode": {
    "name": "ipython",
    "version": 3
   },
   "file_extension": ".py",
   "mimetype": "text/x-python",
   "name": "python",
   "nbconvert_exporter": "python",
   "pygments_lexer": "ipython3",
   "version": "3.5.0"
  }
 },
 "nbformat": 4,
 "nbformat_minor": 2
}
