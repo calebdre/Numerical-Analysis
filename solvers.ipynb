{
 "cells": [
  {
   "cell_type": "code",
   "execution_count": 1,
   "metadata": {},
   "outputs": [],
   "source": [
    "from IPython.core.debugger import set_trace\n",
    "import unittest\n",
    "tc = unittest.TestCase('__init__')\n",
    "\n",
    "import numpy as np\n",
    "# mathjax docs: https://math.meta.stackexchange.com/questions/5020/mathjax-basic-tutorial-and-quick-reference"
   ]
  },
  {
   "cell_type": "markdown",
   "metadata": {},
   "source": [
    "# The Problem\n",
    "\n",
    "Given $A \\in \\mathbb{R}^{mxn} \\text{ and } b \\in \\mathbb{R}^n$ in the equation:\n",
    "\n",
    "$Ax = b$\n",
    "  \n",
    "We want to solve for $x$"
   ]
  },
  {
   "cell_type": "code",
   "execution_count": 2,
   "metadata": {},
   "outputs": [],
   "source": [
    "def generate_random_problem(size=(3, 3)):\n",
    "    return np.random.random(size), np.random.random((size[0],1))\n",
    "\n",
    "def get_example_problem():\n",
    "    # example 6.1.2\n",
    "    return (np.array([\n",
    "        [1, -1, 2 ,-1],\n",
    "        [2, -2, 3, -3],\n",
    "        [1, 1, 1, 0],\n",
    "        [1, -1, 4, 3]\n",
    "    ], dtype=np.float64), \n",
    "    np.array([[-8, -20, -2, 4]], dtype=np.float64).T,\n",
    "    np.array([[2, 2, 3, -7]], dtype=np.float64).T)"
   ]
  },
  {
   "cell_type": "code",
   "execution_count": 3,
   "metadata": {},
   "outputs": [],
   "source": [
    "def test_correct_matrix_solution(A, b, x):\n",
    "    return np.array_equal(np.dot(A, x), b)\n",
    "\n",
    "def test_method(method_func):\n",
    "    # example 6.1.2\n",
    "    A_1 = np.array([\n",
    "        [1, -1, 2 ,-1],\n",
    "        [2, -2, 3, -3],\n",
    "        [1, 1, 1, 0],\n",
    "        [1, -1, 4, 3]\n",
    "    ])\n",
    "    b_1 = np.array([[-8, -20, -2, 4]]).T\n",
    "    x_1 = np.array([2, 2, 3, -7]).T\n",
    "    tc.assertTrue(np.array_equal(method_func(A_1, b_1), x_1))\n",
    "    \n",
    "    # random A & b\n",
    "    A_2 = np.random.random((4,4))\n",
    "    b_2 = np.random.random((4,1))\n",
    "    x_2 = method_func(A_2, b_2)\n",
    "    tc.assertTrue(np.array_equal(np.dot(A_2, x_2), b_2))"
   ]
  },
  {
   "cell_type": "markdown",
   "metadata": {},
   "source": [
    "# 1: Gausse Elimination"
   ]
  },
  {
   "cell_type": "markdown",
   "metadata": {},
   "source": [
    "### No Pivoting:"
   ]
  },
  {
   "cell_type": "code",
   "execution_count": 4,
   "metadata": {},
   "outputs": [],
   "source": [
    "def swap_rows(m, row_index_1, row_index_2):\n",
    "    cpy = m.copy()\n",
    "    cpy[[row_index_1, row_index_2]] = cpy[[row_index_2, row_index_1]]\n",
    "    return cpy\n",
    "\n",
    "def swap_rows_if_needed(m, b, pivot_row, pivot_col):\n",
    "        if m[pivot_row, pivot_col] > 0:\n",
    "            return m, b\n",
    "        \n",
    "        nonzeros = m[pivot_row: m.shape[0], pivot_col].nonzero()\n",
    "        if len(nonzeros[0]) > 0:\n",
    "            next_nonzero_index = nonzeros[0][0] + pivot_row\n",
    "            if next_nonzero_index != pivot_row:\n",
    "                m = swap_rows(m, pivot_row, next_nonzero_index)\n",
    "                b = swap_rows(b, pivot_row, next_nonzero_index)\n",
    "\n",
    "        return m, b\n",
    "\n",
    "def swap_rows_if_needed_test():\n",
    "    A = np.random.random((4,4))\n",
    "    b = np.random.random((4,1))\n",
    "    A[1, 1] = 0\n",
    "    A_real, b_real = swap_rows_if_needed(A,b, 1, 1)\n",
    "    A_expected = swap_rows(A, 1, 2)\n",
    "    b_expected = swap_rows(b, 1, 2)\n",
    "    tc.assertTrue(np.array_equal(A_expected, A_real))\n",
    "    tc.assertTrue(np.array_equal(b_expected, b_real))\n",
    "    \n",
    "    B = np.random.random((4,4))\n",
    "    c = np.random.random((4,1))\n",
    "    B_real, c = swap_rows_if_needed(B, c, 1, 1)\n",
    "    B_expected = B\n",
    "    tc.assertTrue(np.array_equal(B_expected, B_real))\n",
    "    \n",
    "swap_rows_if_needed_test()"
   ]
  },
  {
   "cell_type": "code",
   "execution_count": 5,
   "metadata": {},
   "outputs": [],
   "source": [
    "def forward_elimination(A_input, b_input):\n",
    "    def forward_elimination_recurse(A, b, pivot_index):\n",
    "        pivot_row_index = A.shape[1] - A.shape[0] + pivot_index\n",
    "        A, b = swap_rows_if_needed(A, b, pivot_row_index, pivot_index)\n",
    "        pivot_row = A[pivot_row_index]\n",
    "        \n",
    "        start_row_index = pivot_row_index + 1\n",
    "\n",
    "        for row_i in range(start_row_index, A.shape[0]):\n",
    "            multiplier = np.abs(pivot_row[pivot_index]) *  (A[row_i][pivot_index] / pivot_row[pivot_index])\n",
    "            A[row_i] -= (multiplier * pivot_row)\n",
    "            b[row_i] -= (multiplier * b[pivot_row_index])\n",
    "        \n",
    "        if pivot_index >= A.shape[1]-1:\n",
    "            return A, b\n",
    "        else:\n",
    "            return forward_elimination_recurse(A, b, pivot_index + 1)\n",
    "    \n",
    "    return forward_elimination_recurse(A_input, b_input, 0)"
   ]
  },
  {
   "cell_type": "code",
   "execution_count": null,
   "metadata": {},
   "outputs": [],
   "source": []
  },
  {
   "cell_type": "code",
   "execution_count": 81,
   "metadata": {},
   "outputs": [],
   "source": [
    "# A -> n x m matrix, b -> 1 x m matrix\n",
    "def backward_substitution(A, B):\n",
    "    '''\n",
    "    There are only m variables to solve for in an n x m matrix,\n",
    "    so we can just solve the m x m submatrix. If m > n, we don't\n",
    "    have enough equations to solve the system.\n",
    "\n",
    "    x = output    \n",
    "    n = # of rows\n",
    "    k = # of columns\n",
    "    '''\n",
    "    x = np.zeros((B.shape[0],))\n",
    "    n = A.shape[0]\n",
    "    k = A.shape[1]\n",
    "    \n",
    "    # first iteration \n",
    "    x[k-1] = B[k-1, 0] / A[n-1,k-1]\n",
    "    A[0: n-1,k-1] *= x[k-1]\n",
    "    B[k-1] *= x[k-1]\n",
    "\n",
    "    for i in reversed(range(0, k-1)):\n",
    "        found_variables_sum = np.sum(A[i, i+1:n])\n",
    "        x[i] = (B[i, 0] - found_variables_sum) / A[i, i]\n",
    "        A[:i, i] *= x[i]\n",
    "\n",
    "    if n > k:\n",
    "        A[0: n-k] *= x\n",
    "    \n",
    "    return x[::-1]"
   ]
  },
  {
   "cell_type": "code",
   "execution_count": 82,
   "metadata": {},
   "outputs": [
    {
     "data": {
      "text/plain": [
       "array([ 2.,  2.,  3., -7.])"
      ]
     },
     "execution_count": 82,
     "metadata": {},
     "output_type": "execute_result"
    }
   ],
   "source": [
    "A, b, x = get_example_problem()\n",
    "A, b = forward_elimination(A, b)\n",
    "backward_substitution(A, b)"
   ]
  },
  {
   "cell_type": "code",
   "execution_count": null,
   "metadata": {},
   "outputs": [],
   "source": []
  }
 ],
 "metadata": {
  "kernelspec": {
   "display_name": "Python 3",
   "language": "python",
   "name": "python3"
  },
  "language_info": {
   "codemirror_mode": {
    "name": "ipython",
    "version": 3
   },
   "file_extension": ".py",
   "mimetype": "text/x-python",
   "name": "python",
   "nbconvert_exporter": "python",
   "pygments_lexer": "ipython3",
   "version": "3.5.0"
  }
 },
 "nbformat": 4,
 "nbformat_minor": 2
}
